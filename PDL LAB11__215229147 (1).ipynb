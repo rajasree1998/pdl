{
 "cells": [
  {
   "cell_type": "markdown",
   "metadata": {},
   "source": [
    "###### NAME : RAJASREE S\n",
    "###### ROLL NO : 215229147"
   ]
  },
  {
   "cell_type": "markdown",
   "metadata": {
    "id": "6PJfdHa-oavt"
   },
   "source": [
    "# Lab11. Exploration of Convolutional Neural Networks Design"
   ]
  },
  {
   "cell_type": "markdown",
   "metadata": {
    "id": "Vg1gcq5tq2_0"
   },
   "source": [
    "### Import libraries "
   ]
  },
  {
   "cell_type": "code",
   "execution_count": 1,
   "metadata": {
    "id": "hFHMkUrzpY-t"
   },
   "outputs": [],
   "source": [
    "import numpy as np\n",
    "import matplotlib.pyplot as plt\n",
    "import tensorflow\n",
    "from tensorflow import keras\n",
    "from tensorflow.keras.models import Sequential\n",
    "from tensorflow.keras.layers import Dense, Flatten, Conv2D, MaxPooling2D"
   ]
  },
  {
   "cell_type": "markdown",
   "metadata": {},
   "source": [
    "### Import Data"
   ]
  },
  {
   "cell_type": "code",
   "execution_count": 2,
   "metadata": {
    "id": "jwi-U7B1oVvC"
   },
   "outputs": [
    {
     "name": "stdout",
     "output_type": "stream",
     "text": [
      "Downloading data from https://storage.googleapis.com/tensorflow/tf-keras-datasets/mnist.npz\n",
      "11490434/11490434 [==============================] - 45s 4us/step\n"
     ]
    }
   ],
   "source": [
    "(X_train, y_train) , (X_test, y_test) = keras.datasets.mnist.load_data()"
   ]
  },
  {
   "cell_type": "code",
   "execution_count": 3,
   "metadata": {
    "colab": {
     "base_uri": "https://localhost:8080/"
    },
    "id": "AhbWTIIKqTfz",
    "outputId": "7ee717e2-1e85-4659-c334-afd18e1fd5b6"
   },
   "outputs": [
    {
     "name": "stdout",
     "output_type": "stream",
     "text": [
      "X_train shape: (60000, 28, 28)  y_train shape: (60000,)\n",
      "X_test shape: (10000, 28, 28)  y_test shape: (10000,)\n",
      "X_train size: 47040000  y_train size: 60000\n",
      "X_test size: 7840000  y_test size: 10000\n"
     ]
    }
   ],
   "source": [
    "print(\"X_train shape:\", X_train.shape, \" y_train shape:\", y_train.shape)\n",
    "print(\"X_test shape:\", X_test.shape, \" y_test shape:\", y_test.shape)\n",
    "print(\"X_train size:\", X_train.size, \" y_train size:\", y_train.size)\n",
    "print(\"X_test size:\", X_test.size, \" y_test size:\", y_test.size)"
   ]
  },
  {
   "cell_type": "code",
   "execution_count": 4,
   "metadata": {
    "colab": {
     "base_uri": "https://localhost:8080/",
     "height": 275
    },
    "id": "KxXJPYnGqgns",
    "outputId": "115fe648-3b18-4fd0-bf55-d273cf326c72"
   },
   "outputs": [
    {
     "data": {
      "image/png": "[encoded data removed]",
      "text/plain": [
       "<Figure size 345.6x345.6 with 1 Axes>"
      ]
     },
     "metadata": {
      "needs_background": "light"
     },
     "output_type": "display_data"
    }
   ],
   "source": [
    "plt.matshow(X_train[37])\n",
    "plt.show()"
   ]
  },
  {
   "cell_type": "code",
   "execution_count": 5,
   "metadata": {
    "id": "tB_STodoqlkk"
   },
   "outputs": [],
   "source": [
    "X_train = X_train.astype('float32') / 255\n",
    "X_test = X_test.astype('float32') / 255"
   ]
  },
  {
   "cell_type": "markdown",
   "metadata": {
    "id": "pz45qkbXrVhF"
   },
   "source": [
    "## 1. No.of filters:"
   ]
  },
  {
   "cell_type": "code",
   "execution_count": 6,
   "metadata": {
    "id": "4HCvrRZxqwE8"
   },
   "outputs": [
    {
     "name": "stdout",
     "output_type": "stream",
     "text": [
      "Epoch 1/5\n",
      "1875/1875 [==============================] - 18s 9ms/step - loss: 27.3046 - accuracy: 0.1005\n",
      "Epoch 2/5\n",
      "1875/1875 [==============================] - 18s 9ms/step - loss: 27.3046 - accuracy: 0.1014\n",
      "Epoch 3/5\n",
      "1875/1875 [==============================] - 18s 9ms/step - loss: 27.3046 - accuracy: 0.0999\n",
      "Epoch 4/5\n",
      "1875/1875 [==============================] - 18s 9ms/step - loss: 27.3046 - accuracy: 0.1003\n",
      "Epoch 5/5\n",
      "1875/1875 [==============================] - 18s 9ms/step - loss: 27.3046 - accuracy: 0.0978\n",
      "313/313 [==============================] - 2s 5ms/step - loss: 27.2503 - accuracy: 0.0894\n"
     ]
    },
    {
     "data": {
      "text/plain": [
       "[27.25031280517578, 0.08940000087022781]"
      ]
     },
     "execution_count": 6,
     "metadata": {},
     "output_type": "execute_result"
    }
   ],
   "source": [
    "model = Sequential([\n",
    "    Conv2D(filters=32, kernel_size=(3, 3), activation='relu', input_shape=(28,28,1)), \n",
    "    Flatten(),\n",
    "    Dense(10, activation='softmax')\n",
    "])\n",
    "\n",
    "model.compile(optimizer='adam', loss='mean_squared_error', metrics=['accuracy'])\n",
    "\n",
    "model.fit(X_train, y_train, epochs=5)\n",
    "\n",
    "model.evaluate(X_test, y_test)"
   ]
  },
  {
   "cell_type": "code",
   "execution_count": 7,
   "metadata": {
    "colab": {
     "base_uri": "https://localhost:8080/"
    },
    "id": "tjJOeeB2vNz1",
    "outputId": "924682d4-225b-483c-a36d-df90c7d1c921"
   },
   "outputs": [
    {
     "name": "stdout",
     "output_type": "stream",
     "text": [
      "Epoch 1/5\n",
      "1875/1875 [==============================] - 42s 22ms/step - loss: 27.3046 - accuracy: 0.0986\n",
      "Epoch 2/5\n",
      "1875/1875 [==============================] - 42s 22ms/step - loss: 27.3046 - accuracy: 0.1016\n",
      "Epoch 3/5\n",
      "1875/1875 [==============================] - 41s 22ms/step - loss: 27.3046 - accuracy: 0.1039\n",
      "Epoch 4/5\n",
      "1875/1875 [==============================] - 41s 22ms/step - loss: 27.3045 - accuracy: 0.1031\n",
      "Epoch 5/5\n",
      "1875/1875 [==============================] - 41s 22ms/step - loss: 27.3046 - accuracy: 0.0997\n",
      "313/313 [==============================] - 3s 8ms/step - loss: 27.2503 - accuracy: 0.1141\n"
     ]
    },
    {
     "data": {
      "text/plain": [
       "[27.25031280517578, 0.11410000175237656]"
      ]
     },
     "execution_count": 7,
     "metadata": {},
     "output_type": "execute_result"
    }
   ],
   "source": [
    "model = Sequential([\n",
    "    Conv2D(filters=128, kernel_size=(3, 3), activation='relu', input_shape=(28,28,1)), \n",
    "    Flatten(),\n",
    "    Dense(10, activation='softmax')\n",
    "])\n",
    "\n",
    "model.compile(optimizer='adam', loss='mean_squared_error', metrics=['accuracy'])\n",
    "\n",
    "model.fit(X_train, y_train, epochs=5)\n",
    "\n",
    "model.evaluate(X_test, y_test)"
   ]
  },
  {
   "cell_type": "code",
   "execution_count": 8,
   "metadata": {
    "id": "wocEa_-FvN2l"
   },
   "outputs": [
    {
     "name": "stdout",
     "output_type": "stream",
     "text": [
      "Epoch 1/5\n",
      "1875/1875 [==============================] - 136s 72ms/step - loss: 27.3046 - accuracy: 0.1061\n",
      "Epoch 2/5\n",
      "1875/1875 [==============================] - 223s 119ms/step - loss: 27.3046 - accuracy: 0.1017\n",
      "Epoch 3/5\n",
      "1875/1875 [==============================] - 131s 70ms/step - loss: 27.3046 - accuracy: 0.0983\n",
      "Epoch 4/5\n",
      "1875/1875 [==============================] - 133s 71ms/step - loss: 27.3046 - accuracy: 0.0984\n",
      "Epoch 5/5\n",
      "1875/1875 [==============================] - 132s 70ms/step - loss: 27.3046 - accuracy: 0.1003\n",
      "313/313 [==============================] - 8s 24ms/step - loss: 27.2503 - accuracy: 0.1027\n"
     ]
    },
    {
     "data": {
      "text/plain": [
       "[27.25031280517578, 0.10270000249147415]"
      ]
     },
     "execution_count": 8,
     "metadata": {},
     "output_type": "execute_result"
    }
   ],
   "source": [
    "model = Sequential([\n",
    "    Conv2D(filters=512, kernel_size=(3, 3), activation='relu', input_shape=(28,28,1)), \n",
    "    Flatten(),\n",
    "    Dense(10, activation='softmax')\n",
    "])\n",
    "\n",
    "model.compile(optimizer='adam', loss='mean_squared_error', metrics=['accuracy'])\n",
    "\n",
    "model.fit(X_train, y_train, epochs=5)\n",
    "\n",
    "model.evaluate(X_test, y_test)"
   ]
  },
  {
   "cell_type": "markdown",
   "metadata": {
    "id": "5BX1lkVru-md"
   },
   "source": [
    "## 2. No. of layers:"
   ]
  },
  {
   "cell_type": "code",
   "execution_count": 9,
   "metadata": {
    "id": "XSKbFtV1raFM"
   },
   "outputs": [
    {
     "name": "stdout",
     "output_type": "stream",
     "text": [
      "Epoch 1/5\n",
      "1875/1875 [==============================] - 47s 25ms/step - loss: 27.3046 - accuracy: 0.0982\n",
      "Epoch 2/5\n",
      "1875/1875 [==============================] - 47s 25ms/step - loss: 27.3046 - accuracy: 0.0963\n",
      "Epoch 3/5\n",
      "1875/1875 [==============================] - 48s 25ms/step - loss: 27.3046 - accuracy: 0.0993\n",
      "Epoch 4/5\n",
      "1875/1875 [==============================] - 47s 25ms/step - loss: 27.3046 - accuracy: 0.0994\n",
      "Epoch 5/5\n",
      "1875/1875 [==============================] - 48s 25ms/step - loss: 27.3046 - accuracy: 0.1019\n",
      "313/313 [==============================] - 3s 8ms/step - loss: 27.2503 - accuracy: 0.0848\n"
     ]
    },
    {
     "data": {
      "text/plain": [
       "[27.25031280517578, 0.08479999750852585]"
      ]
     },
     "execution_count": 9,
     "metadata": {},
     "output_type": "execute_result"
    }
   ],
   "source": [
    "model = Sequential([\n",
    "    Conv2D(filters=32, kernel_size=(3, 3), activation='relu', input_shape=(28,28,1)), \n",
    "    Conv2D(filters=32, kernel_size=(3, 3), activation='relu'), \n",
    "    Flatten(),\n",
    "    Dense(10, activation='softmax')\n",
    "])\n",
    "\n",
    "model.compile(optimizer='adam', loss='mean_squared_error', metrics=['accuracy'])\n",
    "\n",
    "model.fit(X_train, y_train, epochs=5)\n",
    "\n",
    "model.evaluate(X_test, y_test)"
   ]
  },
  {
   "cell_type": "code",
   "execution_count": 10,
   "metadata": {
    "id": "-zSR7kCJvsiV"
   },
   "outputs": [
    {
     "name": "stdout",
     "output_type": "stream",
     "text": [
      "Epoch 1/5\n",
      "1875/1875 [==============================] - 74s 39ms/step - loss: 27.3046 - accuracy: 0.1089\n",
      "Epoch 2/5\n",
      "1875/1875 [==============================] - 73s 39ms/step - loss: 27.3046 - accuracy: 0.1022\n",
      "Epoch 3/5\n",
      "1875/1875 [==============================] - 72s 39ms/step - loss: 27.3046 - accuracy: 0.1013\n",
      "Epoch 4/5\n",
      "1875/1875 [==============================] - 73s 39ms/step - loss: 27.3046 - accuracy: 0.0996\n",
      "Epoch 5/5\n",
      "1875/1875 [==============================] - 74s 40ms/step - loss: 27.3046 - accuracy: 0.1008\n",
      "313/313 [==============================] - 4s 11ms/step - loss: 27.2503 - accuracy: 0.0990\n"
     ]
    },
    {
     "data": {
      "text/plain": [
       "[27.25031280517578, 0.0989999994635582]"
      ]
     },
     "execution_count": 10,
     "metadata": {},
     "output_type": "execute_result"
    }
   ],
   "source": [
    "model = Sequential([\n",
    "    Conv2D(filters=32, kernel_size=(3, 3), activation='relu', input_shape=(28,28,1)), \n",
    "    Conv2D(filters=32, kernel_size=(3, 3), activation='relu'),\n",
    "    Conv2D(filters=32, kernel_size=(3, 3), activation='relu'), \n",
    "    Flatten(),\n",
    "    Dense(10, activation='softmax')\n",
    "])\n",
    "\n",
    "model.compile(optimizer='adam', loss='mean_squared_error', metrics=['accuracy'])\n",
    "\n",
    "model.fit(X_train, y_train, epochs=5)\n",
    "\n",
    "model.evaluate(X_test, y_test)"
   ]
  },
  {
   "cell_type": "code",
   "execution_count": 11,
   "metadata": {
    "id": "rPnZv78XvslG"
   },
   "outputs": [
    {
     "name": "stdout",
     "output_type": "stream",
     "text": [
      "Epoch 1/5\n",
      "1875/1875 [==============================] - 96s 51ms/step - loss: 27.3046 - accuracy: 0.0926\n",
      "Epoch 2/5\n",
      "1875/1875 [==============================] - 96s 51ms/step - loss: 27.3046 - accuracy: 0.0949\n",
      "Epoch 3/5\n",
      "1875/1875 [==============================] - 95s 51ms/step - loss: 27.3046 - accuracy: 0.0969\n",
      "Epoch 4/5\n",
      "1875/1875 [==============================] - 95s 51ms/step - loss: 27.3046 - accuracy: 0.0972\n",
      "Epoch 5/5\n",
      "1875/1875 [==============================] - 144s 77ms/step - loss: 27.3046 - accuracy: 0.0982\n",
      "313/313 [==============================] - 3s 10ms/step - loss: 27.2503 - accuracy: 0.1163\n"
     ]
    },
    {
     "data": {
      "text/plain": [
       "[27.25031280517578, 0.11630000174045563]"
      ]
     },
     "execution_count": 11,
     "metadata": {},
     "output_type": "execute_result"
    }
   ],
   "source": [
    "model = Sequential([\n",
    "    Conv2D(filters=32, kernel_size=(3, 3), activation='relu', input_shape=(28,28,1)), \n",
    "    Conv2D(filters=32, kernel_size=(3, 3), activation='relu'),\n",
    "    Conv2D(filters=32, kernel_size=(3, 3), activation='relu'),\n",
    "    Conv2D(filters=32, kernel_size=(3, 3), activation='relu'), \n",
    "    Flatten(),\n",
    "    Dense(10, activation='softmax')\n",
    "])\n",
    "\n",
    "model.compile(optimizer='adam', loss='mean_squared_error', metrics=['accuracy'])\n",
    "\n",
    "model.fit(X_train, y_train, epochs=5)\n",
    "\n",
    "model.evaluate(X_test, y_test)"
   ]
  },
  {
   "cell_type": "markdown",
   "metadata": {},
   "source": [
    "## 3. Size of Filters:"
   ]
  },
  {
   "cell_type": "code",
   "execution_count": 12,
   "metadata": {
    "id": "AMMr9Lezvsm0"
   },
   "outputs": [
    {
     "name": "stdout",
     "output_type": "stream",
     "text": [
      "Epoch 1/5\n",
      "1875/1875 [==============================] - 31s 16ms/step - loss: 27.3046 - accuracy: 0.0944\n",
      "Epoch 2/5\n",
      "1875/1875 [==============================] - 30s 16ms/step - loss: 27.3046 - accuracy: 0.0986\n",
      "Epoch 3/5\n",
      "1875/1875 [==============================] - 30s 16ms/step - loss: 27.3046 - accuracy: 0.0992\n",
      "Epoch 4/5\n",
      "1875/1875 [==============================] - 30s 16ms/step - loss: 27.3046 - accuracy: 0.0993\n",
      "Epoch 5/5\n",
      "1875/1875 [==============================] - 30s 16ms/step - loss: 27.3046 - accuracy: 0.0995\n",
      "313/313 [==============================] - 2s 6ms/step - loss: 27.2503 - accuracy: 0.0961\n"
     ]
    },
    {
     "data": {
      "text/plain": [
       "[27.25031280517578, 0.09610000252723694]"
      ]
     },
     "execution_count": 12,
     "metadata": {},
     "output_type": "execute_result"
    }
   ],
   "source": [
    "model = Sequential([\n",
    "    Conv2D(filters=16, kernel_size=(3, 3), activation='relu', input_shape=(28,28,1)), \n",
    "    Conv2D(filters=16, kernel_size=(3, 3), activation='relu'),\n",
    "    Flatten(),\n",
    "    Dense(10, activation='softmax')\n",
    "])\n",
    "\n",
    "model.compile(optimizer='adam', loss='mean_squared_error', metrics=['accuracy'])\n",
    "\n",
    "model.fit(X_train, y_train, epochs=5)\n",
    "\n",
    "model.evaluate(X_test, y_test)"
   ]
  },
  {
   "cell_type": "code",
   "execution_count": 13,
   "metadata": {},
   "outputs": [
    {
     "name": "stdout",
     "output_type": "stream",
     "text": [
      "Epoch 1/5\n",
      "1875/1875 [==============================] - 40s 21ms/step - loss: 27.3046 - accuracy: 0.0976\n",
      "Epoch 2/5\n",
      "1875/1875 [==============================] - 40s 21ms/step - loss: 27.3046 - accuracy: 0.1011\n",
      "Epoch 3/5\n",
      "1875/1875 [==============================] - 39s 21ms/step - loss: 27.3046 - accuracy: 0.1001\n",
      "Epoch 4/5\n",
      "1875/1875 [==============================] - 39s 21ms/step - loss: 27.3046 - accuracy: 0.0975\n",
      "Epoch 5/5\n",
      "1875/1875 [==============================] - 39s 21ms/step - loss: 27.3046 - accuracy: 0.1012\n",
      "313/313 [==============================] - 2s 6ms/step - loss: 27.2503 - accuracy: 0.1008\n"
     ]
    },
    {
     "data": {
      "text/plain": [
       "[27.25031280517578, 0.10080000013113022]"
      ]
     },
     "execution_count": 13,
     "metadata": {},
     "output_type": "execute_result"
    }
   ],
   "source": [
    "model = Sequential([\n",
    "    Conv2D(filters=16, kernel_size=(5, 5), activation='relu', input_shape=(28,28,1)), \n",
    "    Conv2D(filters=16, kernel_size=(5, 5), activation='relu'),\n",
    "    Flatten(),\n",
    "    Dense(10, activation='softmax')\n",
    "])\n",
    "\n",
    "model.compile(optimizer='adam', loss='mean_squared_error', metrics=['accuracy'])\n",
    "\n",
    "model.fit(X_train, y_train, epochs=5)\n",
    "\n",
    "model.evaluate(X_test, y_test)"
   ]
  },
  {
   "cell_type": "code",
   "execution_count": 14,
   "metadata": {},
   "outputs": [
    {
     "name": "stdout",
     "output_type": "stream",
     "text": [
      "Epoch 1/5\n",
      "1875/1875 [==============================] - 51s 26ms/step - loss: 27.3046 - accuracy: 0.0997\n",
      "Epoch 2/5\n",
      "1875/1875 [==============================] - 50s 27ms/step - loss: 27.3046 - accuracy: 0.1023\n",
      "Epoch 3/5\n",
      "1875/1875 [==============================] - 50s 26ms/step - loss: 27.3046 - accuracy: 0.0999\n",
      "Epoch 4/5\n",
      "1875/1875 [==============================] - 50s 26ms/step - loss: 27.3046 - accuracy: 0.0992\n",
      "Epoch 5/5\n",
      "1875/1875 [==============================] - 50s 27ms/step - loss: 27.3045 - accuracy: 0.0985\n",
      "313/313 [==============================] - 3s 8ms/step - loss: 27.2503 - accuracy: 0.0889\n"
     ]
    },
    {
     "data": {
      "text/plain": [
       "[27.25031280517578, 0.08889999985694885]"
      ]
     },
     "execution_count": 14,
     "metadata": {},
     "output_type": "execute_result"
    }
   ],
   "source": [
    "model = Sequential([\n",
    "    Conv2D(filters=16, kernel_size=(7, 7), activation='relu', input_shape=(28,28,1)), \n",
    "    Conv2D(filters=16, kernel_size=(7, 7), activation='relu'),\n",
    "    Flatten(),\n",
    "    Dense(10, activation='softmax')\n",
    "])\n",
    "\n",
    "model.compile(optimizer='adam', loss='mean_squared_error', metrics=['accuracy'])\n",
    "\n",
    "model.fit(X_train, y_train, epochs=5)\n",
    "\n",
    "model.evaluate(X_test, y_test)"
   ]
  },
  {
   "cell_type": "markdown",
   "metadata": {},
   "source": [
    "## 4. Activation function:"
   ]
  },
  {
   "cell_type": "code",
   "execution_count": 15,
   "metadata": {
    "id": "gYvyIQQL-6IU"
   },
   "outputs": [
    {
     "name": "stdout",
     "output_type": "stream",
     "text": [
      "Epoch 1/10\n",
      "1875/1875 [==============================] - 33s 17ms/step - loss: 27.3065 - accuracy: 0.1234\n",
      "Epoch 2/10\n",
      "1875/1875 [==============================] - 32s 17ms/step - loss: 27.3046 - accuracy: 0.1371\n",
      "Epoch 3/10\n",
      "1875/1875 [==============================] - 36s 19ms/step - loss: 27.3046 - accuracy: 0.1339\n",
      "Epoch 4/10\n",
      "1875/1875 [==============================] - 34s 18ms/step - loss: 27.3046 - accuracy: 0.1195\n",
      "Epoch 5/10\n",
      "1875/1875 [==============================] - 33s 17ms/step - loss: 27.3046 - accuracy: 0.0956\n",
      "Epoch 6/10\n",
      "1875/1875 [==============================] - 32s 17ms/step - loss: 27.3046 - accuracy: 0.0902\n",
      "Epoch 7/10\n",
      "1875/1875 [==============================] - 32s 17ms/step - loss: 27.3046 - accuracy: 0.0945\n",
      "Epoch 8/10\n",
      "1875/1875 [==============================] - 32s 17ms/step - loss: 27.3046 - accuracy: 0.0967\n",
      "Epoch 9/10\n",
      "1875/1875 [==============================] - 32s 17ms/step - loss: 27.3046 - accuracy: 0.1003\n",
      "Epoch 10/10\n",
      "1875/1875 [==============================] - 32s 17ms/step - loss: 27.3046 - accuracy: 0.1029\n",
      "313/313 [==============================] - 3s 8ms/step - loss: 27.2503 - accuracy: 0.1225\n"
     ]
    },
    {
     "data": {
      "text/plain": [
       "[27.25031280517578, 0.12250000238418579]"
      ]
     },
     "execution_count": 15,
     "metadata": {},
     "output_type": "execute_result"
    }
   ],
   "source": [
    "model = Sequential([\n",
    "    Conv2D(filters=16, kernel_size=(3, 3), activation='sigmoid', input_shape=(28,28,1)), \n",
    "    Conv2D(filters=16, kernel_size=(3, 3), activation='sigmoid'),\n",
    "    Flatten(),\n",
    "    Dense(10, activation='softmax')\n",
    "])\n",
    "\n",
    "model.compile(optimizer='adam', loss='mean_squared_error', metrics=['accuracy'])\n",
    "\n",
    "model.fit(X_train, y_train, epochs=10)\n",
    "\n",
    "model.evaluate(X_test, y_test)"
   ]
  },
  {
   "cell_type": "code",
   "execution_count": 16,
   "metadata": {
    "id": "Q0vlbwpv_FBk"
   },
   "outputs": [
    {
     "name": "stdout",
     "output_type": "stream",
     "text": [
      "Epoch 1/10\n",
      "1875/1875 [==============================] - 32s 17ms/step - loss: 27.3046 - accuracy: 0.1010\n",
      "Epoch 2/10\n",
      "1875/1875 [==============================] - 31s 17ms/step - loss: 27.3046 - accuracy: 0.1009\n",
      "Epoch 3/10\n",
      "1875/1875 [==============================] - 32s 17ms/step - loss: 27.3046 - accuracy: 0.0993\n",
      "Epoch 4/10\n",
      "1875/1875 [==============================] - 33s 17ms/step - loss: 27.3046 - accuracy: 0.0987\n",
      "Epoch 5/10\n",
      "1875/1875 [==============================] - 31s 17ms/step - loss: 27.3046 - accuracy: 0.1000\n",
      "Epoch 6/10\n",
      "1875/1875 [==============================] - 32s 17ms/step - loss: 27.3046 - accuracy: 0.0983\n",
      "Epoch 7/10\n",
      "1875/1875 [==============================] - 32s 17ms/step - loss: 27.3046 - accuracy: 0.1007\n",
      "Epoch 8/10\n",
      "1875/1875 [==============================] - 32s 17ms/step - loss: 27.3046 - accuracy: 0.1015\n",
      "Epoch 9/10\n",
      "1875/1875 [==============================] - 31s 16ms/step - loss: 27.3046 - accuracy: 0.1007\n",
      "Epoch 10/10\n",
      "1875/1875 [==============================] - 31s 16ms/step - loss: 27.3046 - accuracy: 0.0993\n",
      "313/313 [==============================] - 2s 7ms/step - loss: 27.2503 - accuracy: 0.1076\n"
     ]
    },
    {
     "data": {
      "text/plain": [
       "[27.25031280517578, 0.10760000348091125]"
      ]
     },
     "execution_count": 16,
     "metadata": {},
     "output_type": "execute_result"
    }
   ],
   "source": [
    "model = Sequential([\n",
    "    Conv2D(filters=16, kernel_size=(3, 3), activation='tanh', input_shape=(28,28,1)), \n",
    "    Conv2D(filters=16, kernel_size=(3, 3), activation='tanh'),\n",
    "    Flatten(),\n",
    "    Dense(10, activation='softmax')\n",
    "])\n",
    "\n",
    "model.compile(optimizer='adam', loss='mean_squared_error', metrics=['accuracy'])\n",
    "\n",
    "model.fit(X_train, y_train, epochs=10)\n",
    "\n",
    "model.evaluate(X_test, y_test)"
   ]
  },
  {
   "cell_type": "markdown",
   "metadata": {},
   "source": [
    "## 5. Filter size combinations:"
   ]
  },
  {
   "cell_type": "code",
   "execution_count": 17,
   "metadata": {},
   "outputs": [
    {
     "name": "stdout",
     "output_type": "stream",
     "text": [
      "Epoch 1/5\n",
      "1875/1875 [==============================] - 45s 23ms/step - loss: 27.3046 - accuracy: 0.0999\n",
      "Epoch 2/5\n",
      "1875/1875 [==============================] - 44s 24ms/step - loss: 27.3046 - accuracy: 0.1004\n",
      "Epoch 3/5\n",
      "1875/1875 [==============================] - 44s 23ms/step - loss: 27.3046 - accuracy: 0.1005\n",
      "Epoch 4/5\n",
      "1875/1875 [==============================] - 44s 24ms/step - loss: 27.3046 - accuracy: 0.1018\n",
      "Epoch 5/5\n",
      "1875/1875 [==============================] - 44s 24ms/step - loss: 27.3046 - accuracy: 0.0990\n",
      "313/313 [==============================] - 3s 8ms/step - loss: 27.2503 - accuracy: 0.0829\n"
     ]
    },
    {
     "data": {
      "text/plain": [
       "[27.25031280517578, 0.08290000259876251]"
      ]
     },
     "execution_count": 17,
     "metadata": {},
     "output_type": "execute_result"
    }
   ],
   "source": [
    "model = Sequential([\n",
    "    Conv2D(filters=16, kernel_size=(3, 3), activation='tanh', input_shape=(28,28,1)), \n",
    "    Conv2D(filters=16, kernel_size=(5, 5), activation='tanh'),\n",
    "    Flatten(),\n",
    "    Dense(10, activation='softmax')\n",
    "])\n",
    "\n",
    "model.compile(optimizer='adam', loss='mean_squared_error', metrics=['accuracy'])\n",
    "\n",
    "model.fit(X_train, y_train, epochs=5)\n",
    "\n",
    "model.evaluate(X_test, y_test)"
   ]
  },
  {
   "cell_type": "code",
   "execution_count": 18,
   "metadata": {},
   "outputs": [
    {
     "name": "stdout",
     "output_type": "stream",
     "text": [
      "Epoch 1/5\n",
      "1875/1875 [==============================] - 57s 30ms/step - loss: 27.3046 - accuracy: 0.0997\n",
      "Epoch 2/5\n",
      "1875/1875 [==============================] - 57s 30ms/step - loss: 27.3046 - accuracy: 0.0974\n",
      "Epoch 3/5\n",
      "1875/1875 [==============================] - 57s 31ms/step - loss: 27.3046 - accuracy: 0.1033\n",
      "Epoch 4/5\n",
      "1875/1875 [==============================] - 57s 30ms/step - loss: 27.3046 - accuracy: 0.1014\n",
      "Epoch 5/5\n",
      "1875/1875 [==============================] - 57s 31ms/step - loss: 27.3046 - accuracy: 0.0996\n",
      "313/313 [==============================] - 3s 8ms/step - loss: 27.2503 - accuracy: 0.0855\n"
     ]
    },
    {
     "data": {
      "text/plain": [
       "[27.25031280517578, 0.08550000190734863]"
      ]
     },
     "execution_count": 18,
     "metadata": {},
     "output_type": "execute_result"
    }
   ],
   "source": [
    "model = Sequential([\n",
    "    Conv2D(filters=16, kernel_size=(5, 5), activation='tanh', input_shape=(28,28,1)), \n",
    "    Conv2D(filters=16, kernel_size=(7, 7), activation='tanh'),\n",
    "    Flatten(),\n",
    "    Dense(10, activation='softmax')\n",
    "])\n",
    "\n",
    "model.compile(optimizer='adam', loss='mean_squared_error', metrics=['accuracy'])\n",
    "\n",
    "model.fit(X_train, y_train, epochs=5)\n",
    "\n",
    "model.evaluate(X_test, y_test)"
   ]
  },
  {
   "cell_type": "markdown",
   "metadata": {},
   "source": [
    "## 6. Layer-filter combinations:"
   ]
  },
  {
   "cell_type": "code",
   "execution_count": 19,
   "metadata": {},
   "outputs": [
    {
     "name": "stdout",
     "output_type": "stream",
     "text": [
      "Epoch 1/5\n",
      "1875/1875 [==============================] - 36s 19ms/step - loss: 27.3046 - accuracy: 0.0968\n",
      "Epoch 2/5\n",
      "1875/1875 [==============================] - 36s 19ms/step - loss: 27.3046 - accuracy: 0.0964\n",
      "Epoch 3/5\n",
      "1875/1875 [==============================] - 36s 19ms/step - loss: 27.3046 - accuracy: 0.0990\n",
      "Epoch 4/5\n",
      "1875/1875 [==============================] - 36s 19ms/step - loss: 27.3046 - accuracy: 0.0979\n",
      "Epoch 5/5\n",
      "1875/1875 [==============================] - 36s 19ms/step - loss: 27.3046 - accuracy: 0.0993\n",
      "313/313 [==============================] - 3s 8ms/step - loss: 27.2503 - accuracy: 0.0948\n"
     ]
    },
    {
     "data": {
      "text/plain": [
       "[27.25031280517578, 0.09480000287294388]"
      ]
     },
     "execution_count": 19,
     "metadata": {},
     "output_type": "execute_result"
    }
   ],
   "source": [
    "model = Sequential([\n",
    "    Conv2D(filters=16, kernel_size=(3, 3), activation='tanh', input_shape=(28,28,1)), \n",
    "    Conv2D(filters=32, kernel_size=(3, 3), activation='tanh'),\n",
    "    Flatten(),\n",
    "    Dense(10, activation='softmax')\n",
    "])\n",
    "\n",
    "model.compile(optimizer='adam', loss='mean_squared_error', metrics=['accuracy'])\n",
    "\n",
    "model.fit(X_train, y_train, epochs=5)\n",
    "\n",
    "model.evaluate(X_test, y_test)"
   ]
  },
  {
   "cell_type": "code",
   "execution_count": 20,
   "metadata": {},
   "outputs": [
    {
     "name": "stdout",
     "output_type": "stream",
     "text": [
      "Epoch 1/5\n",
      "1875/1875 [==============================] - 43s 23ms/step - loss: 27.3046 - accuracy: 0.0991\n",
      "Epoch 2/5\n",
      "1875/1875 [==============================] - 43s 23ms/step - loss: 27.3046 - accuracy: 0.0979\n",
      "Epoch 3/5\n",
      "1875/1875 [==============================] - 43s 23ms/step - loss: 27.3046 - accuracy: 0.1026\n",
      "Epoch 4/5\n",
      "1875/1875 [==============================] - 43s 23ms/step - loss: 27.3046 - accuracy: 0.1017\n",
      "Epoch 5/5\n",
      "1875/1875 [==============================] - 45s 24ms/step - loss: 27.3046 - accuracy: 0.1015\n",
      "313/313 [==============================] - 3s 8ms/step - loss: 27.2503 - accuracy: 0.0856\n"
     ]
    },
    {
     "data": {
      "text/plain": [
       "[27.25031280517578, 0.08560000360012054]"
      ]
     },
     "execution_count": 20,
     "metadata": {},
     "output_type": "execute_result"
    }
   ],
   "source": [
    "model = Sequential([\n",
    "    Conv2D(filters=32, kernel_size=(3, 3), activation='tanh', input_shape=(28,28,1)), \n",
    "    Conv2D(filters=16, kernel_size=(3, 3), activation='tanh'),\n",
    "    Flatten(),\n",
    "    Dense(10, activation='softmax')\n",
    "])\n",
    "\n",
    "model.compile(optimizer='adam', loss='mean_squared_error', metrics=['accuracy'])\n",
    "\n",
    "model.fit(X_train, y_train, epochs=5)\n",
    "\n",
    "model.evaluate(X_test, y_test)"
   ]
  },
  {
   "cell_type": "markdown",
   "metadata": {},
   "source": [
    "## 7. Influence of Striding:"
   ]
  },
  {
   "cell_type": "code",
   "execution_count": 21,
   "metadata": {},
   "outputs": [
    {
     "name": "stdout",
     "output_type": "stream",
     "text": [
      "Epoch 1/5\n",
      "1875/1875 [==============================] - 11s 6ms/step - loss: 27.3046 - accuracy: 0.0957\n",
      "Epoch 2/5\n",
      "1875/1875 [==============================] - 11s 6ms/step - loss: 27.3046 - accuracy: 0.0980\n",
      "Epoch 3/5\n",
      "1875/1875 [==============================] - 11s 6ms/step - loss: 27.3046 - accuracy: 0.1002\n",
      "Epoch 4/5\n",
      "1875/1875 [==============================] - 11s 6ms/step - loss: 27.3046 - accuracy: 0.0990\n",
      "Epoch 5/5\n",
      "1875/1875 [==============================] - 11s 6ms/step - loss: 27.3046 - accuracy: 0.1001\n",
      "313/313 [==============================] - 1s 4ms/step - loss: 27.2503 - accuracy: 0.0987\n"
     ]
    },
    {
     "data": {
      "text/plain": [
       "[27.25031280517578, 0.09870000183582306]"
      ]
     },
     "execution_count": 21,
     "metadata": {},
     "output_type": "execute_result"
    }
   ],
   "source": [
    "model = Sequential([\n",
    "    Conv2D(filters=32, kernel_size=(3, 3), activation='relu', strides=(2,2), input_shape=(28,28,1)), \n",
    "    Conv2D(filters=32, kernel_size=(3, 3), activation='relu', strides=(2,2)), \n",
    "    Flatten(),\n",
    "    Dense(10, activation='softmax')\n",
    "])\n",
    "\n",
    "model.compile(optimizer='adam', loss='mean_squared_error', metrics=['accuracy'])\n",
    "\n",
    "model.fit(X_train, y_train, epochs=5)\n",
    "\n",
    "model.evaluate(X_test, y_test)"
   ]
  },
  {
   "cell_type": "code",
   "execution_count": 22,
   "metadata": {},
   "outputs": [
    {
     "name": "stdout",
     "output_type": "stream",
     "text": [
      "Epoch 1/5\n",
      "1875/1875 [==============================] - 9s 4ms/step - loss: 27.3046 - accuracy: 0.0968\n",
      "Epoch 2/5\n",
      "1875/1875 [==============================] - 7s 4ms/step - loss: 27.3046 - accuracy: 0.0997\n",
      "Epoch 3/5\n",
      "1875/1875 [==============================] - 8s 4ms/step - loss: 27.3046 - accuracy: 0.0984\n",
      "Epoch 4/5\n",
      "1875/1875 [==============================] - 8s 4ms/step - loss: 27.3046 - accuracy: 0.1002\n",
      "Epoch 5/5\n",
      "1875/1875 [==============================] - 8s 4ms/step - loss: 27.3046 - accuracy: 0.0990\n",
      "313/313 [==============================] - 1s 3ms/step - loss: 27.2503 - accuracy: 0.0959\n"
     ]
    },
    {
     "data": {
      "text/plain": [
       "[27.25031280517578, 0.09589999914169312]"
      ]
     },
     "execution_count": 22,
     "metadata": {},
     "output_type": "execute_result"
    }
   ],
   "source": [
    "model = Sequential([\n",
    "    Conv2D(filters=32, kernel_size=(3, 3), activation='relu', strides=(3,3), input_shape=(28,28,1)), \n",
    "    Conv2D(filters=32, kernel_size=(3, 3), activation='relu', strides=(3,3)), \n",
    "    Flatten(),\n",
    "    Dense(10, activation='softmax')\n",
    "])\n",
    "\n",
    "model.compile(optimizer='adam', loss='mean_squared_error', metrics=['accuracy'])\n",
    "\n",
    "model.fit(X_train, y_train, epochs=5)\n",
    "\n",
    "model.evaluate(X_test, y_test)"
   ]
  },
  {
   "cell_type": "markdown",
   "metadata": {},
   "source": [
    "## 8. Influence of Padding:"
   ]
  },
  {
   "cell_type": "code",
   "execution_count": 23,
   "metadata": {},
   "outputs": [
    {
     "name": "stdout",
     "output_type": "stream",
     "text": [
      "Epoch 1/5\n",
      "1875/1875 [==============================] - 61s 32ms/step - loss: 27.3046 - accuracy: 0.0989\n",
      "Epoch 2/5\n",
      "1875/1875 [==============================] - 61s 32ms/step - loss: 27.3046 - accuracy: 0.1017\n",
      "Epoch 3/5\n",
      "1875/1875 [==============================] - 60s 32ms/step - loss: 27.3046 - accuracy: 0.1022\n",
      "Epoch 4/5\n",
      "1875/1875 [==============================] - 62s 33ms/step - loss: 27.3046 - accuracy: 0.1001\n",
      "Epoch 5/5\n",
      "1875/1875 [==============================] - 59s 32ms/step - loss: 27.3046 - accuracy: 0.0993\n",
      "313/313 [==============================] - 3s 10ms/step - loss: 27.2503 - accuracy: 0.0877\n"
     ]
    },
    {
     "data": {
      "text/plain": [
       "[27.25031280517578, 0.0877000018954277]"
      ]
     },
     "execution_count": 23,
     "metadata": {},
     "output_type": "execute_result"
    }
   ],
   "source": [
    "model = Sequential([\n",
    "    Conv2D(filters=32, kernel_size=(3, 3), activation='relu', padding='same', input_shape=(28,28,1)), \n",
    "    Conv2D(filters=32, kernel_size=(3, 3), activation='relu', padding='same'), \n",
    "    Flatten(),\n",
    "    Dense(10, activation='softmax')\n",
    "])\n",
    "\n",
    "model.compile(optimizer='adam', loss='mean_squared_error', metrics=['accuracy'])\n",
    "\n",
    "model.fit(X_train, y_train, epochs=5)\n",
    "\n",
    "model.evaluate(X_test, y_test)"
   ]
  },
  {
   "cell_type": "markdown",
   "metadata": {},
   "source": [
    "## 9. Influence of Pooling:"
   ]
  },
  {
   "cell_type": "code",
   "execution_count": 24,
   "metadata": {},
   "outputs": [
    {
     "name": "stdout",
     "output_type": "stream",
     "text": [
      "Epoch 1/5\n",
      "1875/1875 [==============================] - 32s 17ms/step - loss: 27.3046 - accuracy: 0.0954\n",
      "Epoch 2/5\n",
      "1875/1875 [==============================] - 31s 17ms/step - loss: 27.3046 - accuracy: 0.0970\n",
      "Epoch 3/5\n",
      "1875/1875 [==============================] - 31s 17ms/step - loss: 27.3046 - accuracy: 0.0973\n",
      "Epoch 4/5\n",
      "1875/1875 [==============================] - 31s 17ms/step - loss: 27.3046 - accuracy: 0.0984\n",
      "Epoch 5/5\n",
      "1875/1875 [==============================] - 31s 17ms/step - loss: 27.3046 - accuracy: 0.0968\n",
      "313/313 [==============================] - 3s 8ms/step - loss: 27.2503 - accuracy: 0.0987\n"
     ]
    },
    {
     "data": {
      "text/plain": [
       "[27.25031280517578, 0.09870000183582306]"
      ]
     },
     "execution_count": 24,
     "metadata": {},
     "output_type": "execute_result"
    }
   ],
   "source": [
    "model = Sequential([\n",
    "    Conv2D(filters=32, kernel_size=(3, 3), activation='relu', padding='same', input_shape=(28,28,1)), \n",
    "    MaxPooling2D(pool_size=(2,2)),\n",
    "    Conv2D(filters=32, kernel_size=(3, 3), activation='relu', padding='same'), \n",
    "    MaxPooling2D(pool_size=(2,2)),\n",
    "    Flatten(),\n",
    "    Dense(10, activation='softmax')\n",
    "])\n",
    "\n",
    "model.compile(optimizer='adam', loss='mean_squared_error', metrics=['accuracy'])\n",
    "\n",
    "model.fit(X_train, y_train, epochs=5)\n",
    "\n",
    "model.evaluate(X_test, y_test)"
   ]
  },
  {
   "cell_type": "code",
   "execution_count": 25,
   "metadata": {},
   "outputs": [
    {
     "name": "stdout",
     "output_type": "stream",
     "text": [
      "Epoch 1/5\n",
      "1875/1875 [==============================] - 27s 13ms/step - loss: 27.3046 - accuracy: 0.0974\n",
      "Epoch 2/5\n",
      "1875/1875 [==============================] - 25s 13ms/step - loss: 27.3046 - accuracy: 0.1014\n",
      "Epoch 3/5\n",
      "1875/1875 [==============================] - 25s 13ms/step - loss: 27.3046 - accuracy: 0.0994\n",
      "Epoch 4/5\n",
      "1875/1875 [==============================] - 25s 13ms/step - loss: 27.3046 - accuracy: 0.0987\n",
      "Epoch 5/5\n",
      "1875/1875 [==============================] - 25s 13ms/step - loss: 27.3046 - accuracy: 0.0978\n",
      "313/313 [==============================] - 2s 6ms/step - loss: 27.2503 - accuracy: 0.1012\n"
     ]
    },
    {
     "data": {
      "text/plain": [
       "[27.25031280517578, 0.10119999945163727]"
      ]
     },
     "execution_count": 25,
     "metadata": {},
     "output_type": "execute_result"
    }
   ],
   "source": [
    "model = Sequential([\n",
    "    Conv2D(filters=32, kernel_size=(3, 3), activation='relu', padding='same', input_shape=(28,28,1)), \n",
    "    MaxPooling2D(pool_size=(3,3)),\n",
    "    Conv2D(filters=32, kernel_size=(3, 3), activation='relu', padding='same'), \n",
    "    MaxPooling2D(pool_size=(3,3)),\n",
    "    Flatten(),\n",
    "    Dense(10, activation='softmax')\n",
    "])\n",
    "\n",
    "model.compile(optimizer='adam', loss='mean_squared_error', metrics=['accuracy'])\n",
    "\n",
    "model.fit(X_train, y_train, epochs=5)\n",
    "\n",
    "model.evaluate(X_test, y_test)"
   ]
  },
  {
   "cell_type": "code",
   "execution_count": null,
   "metadata": {},
   "outputs": [],
   "source": []
  },
  {
   "cell_type": "code",
   "execution_count": null,
   "metadata": {},
   "outputs": [],
   "source": []
  }
 ],
 "metadata": {
  "colab": {
   "provenance": []
  },
  "kernelspec": {
   "display_name": "Python 3",
   "language": "python",
   "name": "python3"
  },
  "language_info": {
   "codemirror_mode": {
    "name": "ipython",
    "version": 3
   },
   "file_extension": ".py",
   "mimetype": "text/x-python",
   "name": "python",
   "nbconvert_exporter": "python",
   "pygments_lexer": "ipython3",
   "version": "3.8.8"
  }
 },
 "nbformat": 4,
 "nbformat_minor": 1
}
