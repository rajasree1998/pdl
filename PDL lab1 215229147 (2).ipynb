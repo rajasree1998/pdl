{
 "cells": [
  {
   "cell_type": "markdown",
   "metadata": {},
   "source": [
    "## Name: Rajasree S\n",
    "## Roll No.: 215229147"
   ]
  },
  {
   "cell_type": "markdown",
   "metadata": {},
   "source": [
    "# Lab1. Python Functions and Numpy"
   ]
  },
  {
   "cell_type": "markdown",
   "metadata": {
    "id": "Yc-IYhWIz16m"
   },
   "source": [
    "## Part-I: Write a method for sigmoid function"
   ]
  },
  {
   "cell_type": "markdown",
   "metadata": {
    "id": "kxSFejXKz7Sx"
   },
   "source": [
    "1. Write a function, mysigmoid(x), that takes the real number x and \n",
    "returns the sigmoid value using math.exp()."
   ]
  },
  {
   "cell_type": "code",
   "execution_count": 1,
   "metadata": {
    "id": "CXVgrzshz9jP"
   },
   "outputs": [],
   "source": [
    "import math\n",
    "\n",
    "def mysigmoid(x):\n",
    "    s = 1. /(1+ math.exp(-x))\n",
    "    return s"
   ]
  },
  {
   "cell_type": "markdown",
   "metadata": {
    "id": "fRQdPfj90ySM"
   },
   "source": [
    "2. Call mysigmoid() with x=4 and print the sigmoid value of 4."
   ]
  },
  {
   "cell_type": "code",
   "execution_count": 2,
   "metadata": {
    "colab": {
     "base_uri": "https://localhost:8080/"
    },
    "executionInfo": {
     "elapsed": 47,
     "status": "ok",
     "timestamp": 1658979920580,
     "user": {
      "displayName": "Sharon Sam Simpson",
      "userId": "12162344911358861015"
     },
     "user_tz": -330
    },
    "id": "5DjpUYjF0vGA",
    "outputId": "194a465e-17f5-4a58-9c57-179dd0a17c54"
   },
   "outputs": [
    {
     "data": {
      "text/plain": [
       "0.9820137900379085"
      ]
     },
     "execution_count": 2,
     "metadata": {},
     "output_type": "execute_result"
    }
   ],
   "source": [
    "mysigmoid (4)"
   ]
  },
  {
   "cell_type": "markdown",
   "metadata": {
    "id": "searQiym05rJ"
   },
   "source": [
    "3. Now, find the sigmoid values for x=[1, 2, 3]. Observe the results."
   ]
  },
  {
   "cell_type": "code",
   "execution_count": 3,
   "metadata": {
    "colab": {
     "base_uri": "https://localhost:8080/"
    },
    "executionInfo": {
     "elapsed": 37,
     "status": "ok",
     "timestamp": 1658979920583,
     "user": {
      "displayName": "Sharon Sam Simpson",
      "userId": "12162344911358861015"
     },
     "user_tz": -330
    },
    "id": "HECnBgZH05X1",
    "outputId": "efcb9342-2510-409f-bf15-a8ee900f1c2a"
   },
   "outputs": [
    {
     "name": "stdout",
     "output_type": "stream",
     "text": [
      "0.7310585786300049\n",
      "0.8807970779778823\n",
      "0.9525741268224334\n"
     ]
    }
   ],
   "source": [
    "x = [1, 2, 3]\n",
    "\n",
    "for i in x:\n",
    "    print(mysigmoid (i))"
   ]
  },
  {
   "cell_type": "markdown",
   "metadata": {
    "id": "oclzaoP718EQ"
   },
   "source": [
    "4. Rewrite mysigmoid() using np.exp() function."
   ]
  },
  {
   "cell_type": "code",
   "execution_count": 4,
   "metadata": {
    "id": "tgRCOg1G18qr"
   },
   "outputs": [],
   "source": [
    "import numpy as np\n",
    "\n",
    "def mysigmoid(x):\n",
    "    s = 1. /(1+ np.exp(-x))\n",
    "    return s"
   ]
  },
  {
   "cell_type": "markdown",
   "metadata": {
    "id": "CPX6wcoT2hCU"
   },
   "source": [
    "5. Now call your function with x=[1, 2, 3] and observe the results"
   ]
  },
  {
   "cell_type": "code",
   "execution_count": 5,
   "metadata": {
    "colab": {
     "base_uri": "https://localhost:8080/"
    },
    "executionInfo": {
     "elapsed": 28,
     "status": "ok",
     "timestamp": 1658979920587,
     "user": {
      "displayName": "Sharon Sam Simpson",
      "userId": "12162344911358861015"
     },
     "user_tz": -330
    },
    "id": "EV7TO_dx2wbW",
    "outputId": "a8a4192d-66ba-4738-b67b-6a20db8dbc5d"
   },
   "outputs": [
    {
     "name": "stdout",
     "output_type": "stream",
     "text": [
      "0.7310585786300049\n",
      "0.8807970779778823\n",
      "0.9525741268224334\n"
     ]
    }
   ],
   "source": [
    "x = [1, 2, 3]\n",
    "\n",
    "for i in x:\n",
    "    print (mysigmoid (i))"
   ]
  },
  {
   "cell_type": "markdown",
   "metadata": {
    "id": "E56Ep0Gm4uQx"
   },
   "source": [
    "6. Understand the difference between scalar and vector."
   ]
  },
  {
   "cell_type": "markdown",
   "metadata": {
    "id": "Ze5u3uzU45Lz"
   },
   "source": [
    "No difference between the output values except that scalar has magnitude and vector has magnitude and direction"
   ]
  },
  {
   "cell_type": "markdown",
   "metadata": {
    "id": "m4xg2x_45Vf6"
   },
   "source": [
    "## Part-II: Gradient or derivative of sigmoid function"
   ]
  },
  {
   "cell_type": "markdown",
   "metadata": {
    "id": "PcOneMvI6Tz8"
   },
   "source": [
    "We compute gradients to optimize loss functions using backpropagation.\n",
    "s_derivative = s * (1 – s), where s = sigmoid(X)\n",
    "Write a function, sig_derivative(s) that returns the gradient of s. You \n",
    "should call your earlier function, mysigmoid() to compute the sigmoid \n",
    "value."
   ]
  },
  {
   "cell_type": "code",
   "execution_count": 6,
   "metadata": {},
   "outputs": [],
   "source": [
    "s=mysigmoid(i)"
   ]
  },
  {
   "cell_type": "code",
   "execution_count": 7,
   "metadata": {
    "id": "hN9suEVg5Z5O"
   },
   "outputs": [],
   "source": [
    "def sig_derivative(x):\n",
    "    s_derivative=s*(1-s)\n",
    "    return s_derivative"
   ]
  },
  {
   "cell_type": "code",
   "execution_count": 8,
   "metadata": {
    "colab": {
     "base_uri": "https://localhost:8080/"
    },
    "executionInfo": {
     "elapsed": 418,
     "status": "ok",
     "timestamp": 1658980487228,
     "user": {
      "displayName": "Sharon Sam Simpson",
      "userId": "12162344911358861015"
     },
     "user_tz": -330
    },
    "id": "pBGjsxPV8MOi",
    "outputId": "43bf00ed-cf7e-4bd8-a745-4a60f8e4d15d"
   },
   "outputs": [
    {
     "data": {
      "text/plain": [
       "0.045176659730912"
      ]
     },
     "execution_count": 8,
     "metadata": {},
     "output_type": "execute_result"
    }
   ],
   "source": [
    "sig_derivative(s)"
   ]
  },
  {
   "cell_type": "markdown",
   "metadata": {
    "id": "VjCAvrM88fNd"
   },
   "source": [
    "## Part-III: Write a method image_to_vector()"
   ]
  },
  {
   "cell_type": "markdown",
   "metadata": {
    "id": "5PA_nmO-9I22"
   },
   "source": [
    " X.shape is used to get the shape (dimension) of a matrix/vector X.\n",
    "\n",
    " X.reshape(...) is used to reshape X into some other dimension."
   ]
  },
  {
   "cell_type": "markdown",
   "metadata": {
    "id": "o3_nZwAOBPBM"
   },
   "source": [
    "1). Now, implement image_to_vector() that takes an input of shape \n",
    "(length, height, 3) and returns a vector of shape (length*height*3, 1)."
   ]
  },
  {
   "cell_type": "code",
   "execution_count": 10,
   "metadata": {
    "colab": {
     "base_uri": "https://localhost:8080/",
     "height": 269
    },
    "executionInfo": {
     "elapsed": 2568,
     "status": "ok",
     "timestamp": 1658983334788,
     "user": {
      "displayName": "Sharon Sam Simpson",
      "userId": "12162344911358861015"
     },
     "user_tz": -330
    },
    "id": "VBdlihhLCfOq",
    "outputId": "76b9d5e9-b398-4fc7-81fe-9cb991da17fc"
   },
   "outputs": [
    {
     "data": {
      "image/png": "[encoded data removed]",
      "text/plain": [
       "<Figure size 432x288 with 1 Axes>"
      ]
     },
     "metadata": {
      "needs_background": "light"
     },
     "output_type": "display_data"
    }
   ],
   "source": [
    "import matplotlib.image as mpimg\n",
    "import matplotlib.pyplot as plt\n",
    "\n",
    "img = mpimg.imread(\"bear.jpg\")\n",
    "\n",
    "plt.imshow(img)\n",
    "plt.show()"
   ]
  },
  {
   "cell_type": "code",
   "execution_count": 11,
   "metadata": {
    "colab": {
     "base_uri": "https://localhost:8080/"
    },
    "executionInfo": {
     "elapsed": 764,
     "status": "ok",
     "timestamp": 1658983384367,
     "user": {
      "displayName": "Sharon Sam Simpson",
      "userId": "12162344911358861015"
     },
     "user_tz": -330
    },
    "id": "N16gtdg4CTUk",
    "outputId": "ac318d17-bbad-4f0a-9b88-1529daf80157"
   },
   "outputs": [
    {
     "data": {
      "text/plain": [
       "(599, 398, 3)"
      ]
     },
     "execution_count": 11,
     "metadata": {},
     "output_type": "execute_result"
    }
   ],
   "source": [
    "v = img.shape\n",
    "v"
   ]
  },
  {
   "cell_type": "code",
   "execution_count": 12,
   "metadata": {
    "executionInfo": {
     "elapsed": 481,
     "status": "ok",
     "timestamp": 1658983410119,
     "user": {
      "displayName": "Sharon Sam Simpson",
      "userId": "12162344911358861015"
     },
     "user_tz": -330
    },
    "id": "nHIW8WZ6HVyZ"
   },
   "outputs": [],
   "source": [
    "def image_to_vector(v):\n",
    "    a=img.shape[0]\n",
    "    b=img.shape[1]\n",
    "    c=img.shape[2]\n",
    "    v1=a*b\n",
    "    reshape=(v1,c)\n",
    "    return reshape"
   ]
  },
  {
   "cell_type": "code",
   "execution_count": 13,
   "metadata": {
    "colab": {
     "base_uri": "https://localhost:8080/"
    },
    "executionInfo": {
     "elapsed": 32,
     "status": "ok",
     "timestamp": 1658983420648,
     "user": {
      "displayName": "Sharon Sam Simpson",
      "userId": "12162344911358861015"
     },
     "user_tz": -330
    },
    "id": "1L4RZcnHHe71",
    "outputId": "d52c7b13-5811-4646-daa7-078c2b30af9f"
   },
   "outputs": [
    {
     "data": {
      "text/plain": [
       "(238402, 3)"
      ]
     },
     "execution_count": 13,
     "metadata": {},
     "output_type": "execute_result"
    }
   ],
   "source": [
    "image_to_vector(v)"
   ]
  },
  {
   "cell_type": "markdown",
   "metadata": {
    "id": "ms7lwKR3C3AD"
   },
   "source": [
    "## Part-IV: Write a method normalizeRows()"
   ]
  },
  {
   "cell_type": "markdown",
   "metadata": {
    "id": "sVR3AIqnC3yE"
   },
   "source": [
    "Implement normalizeRows() to normalize the rows of a matrix. After \n",
    "applying this function to an input matrix x, each row of x should be a vector \n",
    "of unit length (meaning length 1). You can use np.linalg.norm() method."
   ]
  },
  {
   "cell_type": "code",
   "execution_count": 14,
   "metadata": {
    "executionInfo": {
     "elapsed": 27,
     "status": "ok",
     "timestamp": 1658984065593,
     "user": {
      "displayName": "Sharon Sam Simpson",
      "userId": "12162344911358861015"
     },
     "user_tz": -330
    },
    "id": "-oT-9qyPDsat"
   },
   "outputs": [],
   "source": [
    "def normalizeRows(x):\n",
    "    x_norm = np.linalg.norm(x, ord = 2, axis = 1, keepdims = True)\n",
    "    x = x/x_norm\n",
    "    return x"
   ]
  },
  {
   "cell_type": "code",
   "execution_count": 15,
   "metadata": {
    "colab": {
     "base_uri": "https://localhost:8080/"
    },
    "executionInfo": {
     "elapsed": 467,
     "status": "ok",
     "timestamp": 1658984092113,
     "user": {
      "displayName": "Sharon Sam Simpson",
      "userId": "12162344911358861015"
     },
     "user_tz": -330
    },
    "id": "HrOCJQWpJ9NL",
    "outputId": "259a96a7-648d-4dc2-9720-be48c79937c7"
   },
   "outputs": [
    {
     "name": "stdout",
     "output_type": "stream",
     "text": [
      "normalizeRows(x) = [[0.         0.6        0.8       ]\n",
      " [0.13736056 0.82416338 0.54944226]]\n"
     ]
    }
   ],
   "source": [
    "x = np.array([\n",
    "    [0, 3, 4],\n",
    "    [1, 6, 4]])\n",
    "print(\"normalizeRows(x) = \" + str(normalizeRows(x)))"
   ]
  },
  {
   "cell_type": "markdown",
   "metadata": {
    "id": "S1i2bp_0IsdU"
   },
   "source": [
    "## Part-V: Multiplication and Vectorization Operations"
   ]
  },
  {
   "cell_type": "code",
   "execution_count": 16,
   "metadata": {
    "executionInfo": {
     "elapsed": 579,
     "status": "ok",
     "timestamp": 1658984349400,
     "user": {
      "displayName": "Sharon Sam Simpson",
      "userId": "12162344911358861015"
     },
     "user_tz": -330
    },
    "id": "rIjU3g5TKFym"
   },
   "outputs": [],
   "source": [
    "x1 = [9, 2, 5]\n",
    "x2 = [7, 2, 2]\n",
    "x3 = [9, 2, 5, 0, 0, 7, 5, 0, 0, 0, 9, 2, 5, 0, 0, 4, 5, 7]\n",
    "x4 = [7, 2, 2, 9, 0, 9, 2, 5, 0, 0, 9, 2, 5, 0, 0, 8, 5, 3]"
   ]
  },
  {
   "cell_type": "code",
   "execution_count": 17,
   "metadata": {
    "colab": {
     "base_uri": "https://localhost:8080/"
    },
    "executionInfo": {
     "elapsed": 566,
     "status": "ok",
     "timestamp": 1658984875283,
     "user": {
      "displayName": "Sharon Sam Simpson",
      "userId": "12162344911358861015"
     },
     "user_tz": -330
    },
    "id": "y4WXyhrDLDwk",
    "outputId": "246c7937-a57c-40ae-c74c-98dd8059a01a"
   },
   "outputs": [
    {
     "name": "stdout",
     "output_type": "stream",
     "text": [
      "dot = 77\n",
      " ----- Computation time = 0.0ms\n"
     ]
    }
   ],
   "source": [
    "import time\n",
    "tic = time.process_time()\n",
    "dot = 0\n",
    "for i in range(len(x1)):\n",
    "    dot+= x1[i]*x2[i]\n",
    "toc = time.process_time()\n",
    "print (\"dot = \" + str(dot) + \"\\n ----- Computation time = \" + str(1000*(toc - tic)) + \"ms\")"
   ]
  },
  {
   "cell_type": "code",
   "execution_count": 18,
   "metadata": {
    "colab": {
     "base_uri": "https://localhost:8080/"
    },
    "executionInfo": {
     "elapsed": 701,
     "status": "ok",
     "timestamp": 1658984895318,
     "user": {
      "displayName": "Sharon Sam Simpson",
      "userId": "12162344911358861015"
     },
     "user_tz": -330
    },
    "id": "twttOaKLLu6P",
    "outputId": "c36970ef-7a89-4bc4-8642-d1883c39fb9c"
   },
   "outputs": [
    {
     "data": {
      "text/plain": [
       "77"
      ]
     },
     "execution_count": 18,
     "metadata": {},
     "output_type": "execute_result"
    }
   ],
   "source": [
    "np.dot(x1,x2)"
   ]
  },
  {
   "cell_type": "code",
   "execution_count": 19,
   "metadata": {
    "colab": {
     "base_uri": "https://localhost:8080/"
    },
    "executionInfo": {
     "elapsed": 501,
     "status": "ok",
     "timestamp": 1658984946799,
     "user": {
      "displayName": "Sharon Sam Simpson",
      "userId": "12162344911358861015"
     },
     "user_tz": -330
    },
    "id": "fzvc1zcVNQZm",
    "outputId": "2846cebb-71ac-4178-e6b1-d85c78612a3f"
   },
   "outputs": [
    {
     "name": "stdout",
     "output_type": "stream",
     "text": [
      "elementwise multiplication = [63  4 10]\n",
      " ----- Computation time = 0.0ms\n"
     ]
    }
   ],
   "source": [
    "tic = time.process_time()\n",
    "mul = np.multiply(x1,x2)\n",
    "toc = time.process_time()\n",
    "print (\"elementwise multiplication = \" + str(mul) + \"\\n ----- Computation time = \" + str(1000*(toc - tic)) + \"ms\")"
   ]
  },
  {
   "cell_type": "code",
   "execution_count": 20,
   "metadata": {
    "colab": {
     "base_uri": "https://localhost:8080/"
    },
    "executionInfo": {
     "elapsed": 22,
     "status": "ok",
     "timestamp": 1658984911329,
     "user": {
      "displayName": "Sharon Sam Simpson",
      "userId": "12162344911358861015"
     },
     "user_tz": -330
    },
    "id": "qi7F5PizNJRv",
    "outputId": "446e7e27-12ef-4ac1-e7a0-42fb4963800e"
   },
   "outputs": [
    {
     "data": {
      "text/plain": [
       "array([63,  4, 10])"
      ]
     },
     "execution_count": 20,
     "metadata": {},
     "output_type": "execute_result"
    }
   ],
   "source": [
    "np.multiply(x1,x2)"
   ]
  },
  {
   "cell_type": "markdown",
   "metadata": {
    "id": "rPkLF4DYI0Ok"
   },
   "source": [
    "## Part-VI: Implement L1 and L2 loss functions"
   ]
  },
  {
   "cell_type": "code",
   "execution_count": 21,
   "metadata": {
    "executionInfo": {
     "elapsed": 6,
     "status": "ok",
     "timestamp": 1658984186122,
     "user": {
      "displayName": "Sharon Sam Simpson",
      "userId": "12162344911358861015"
     },
     "user_tz": -330
    },
    "id": "CK7ai7UnKPkt"
   },
   "outputs": [],
   "source": [
    "def L1(yhat, y):\n",
    "    loss = np.sum(abs(y - yhat), axis = 0, keepdims = True)\n",
    "    return loss"
   ]
  },
  {
   "cell_type": "code",
   "execution_count": 22,
   "metadata": {
    "colab": {
     "base_uri": "https://localhost:8080/"
    },
    "executionInfo": {
     "elapsed": 36,
     "status": "ok",
     "timestamp": 1658984215057,
     "user": {
      "displayName": "Sharon Sam Simpson",
      "userId": "12162344911358861015"
     },
     "user_tz": -330
    },
    "id": "KWe3wI0CKcCV",
    "outputId": "f41b7a05-aa3c-43be-e88a-c39c8ab93a7c"
   },
   "outputs": [
    {
     "name": "stdout",
     "output_type": "stream",
     "text": [
      "L1 = [1.1]\n"
     ]
    }
   ],
   "source": [
    "yhat = np.array([.9, 0.2, 0.1, .4, .9])\n",
    "y = np.array([1, 0, 0, 1, 1])\n",
    "print(\"L1 = \" + str(L1(yhat,y)))"
   ]
  },
  {
   "cell_type": "code",
   "execution_count": 23,
   "metadata": {
    "executionInfo": {
     "elapsed": 26,
     "status": "ok",
     "timestamp": 1658984256041,
     "user": {
      "displayName": "Sharon Sam Simpson",
      "userId": "12162344911358861015"
     },
     "user_tz": -330
    },
    "id": "qKPHOgzmKjNF"
   },
   "outputs": [],
   "source": [
    "def L2(yhat, y):\n",
    "    loss = np.dot((y - yhat),(y - yhat))\n",
    "    return loss"
   ]
  },
  {
   "cell_type": "code",
   "execution_count": 24,
   "metadata": {
    "colab": {
     "base_uri": "https://localhost:8080/"
    },
    "executionInfo": {
     "elapsed": 46,
     "status": "ok",
     "timestamp": 1658984270335,
     "user": {
      "displayName": "Sharon Sam Simpson",
      "userId": "12162344911358861015"
     },
     "user_tz": -330
    },
    "id": "LuALKrdRKjW8",
    "outputId": "900e4898-4958-47af-82e1-445dc8192362"
   },
   "outputs": [
    {
     "name": "stdout",
     "output_type": "stream",
     "text": [
      "L2 = 0.43\n"
     ]
    }
   ],
   "source": [
    "yhat = np.array([.9, 0.2, 0.1, .4, .9])\n",
    "y = np.array([1, 0, 0, 1, 1])\n",
    "print(\"L2 = \" + str(L2(yhat,y)))"
   ]
  },
  {
   "cell_type": "code",
   "execution_count": null,
   "metadata": {},
   "outputs": [],
   "source": []
  },
  {
   "cell_type": "code",
   "execution_count": null,
   "metadata": {},
   "outputs": [],
   "source": []
  }
 ],
 "metadata": {
  "colab": {
   "authorship_tag": "ABX9TyNPsnGwimW4LSa0kLzyBKbl",
   "name": "Lab1.ipynb",
   "provenance": []
  },
  "kernelspec": {
   "display_name": "Python 3",
   "language": "python",
   "name": "python3"
  },
  "language_info": {
   "codemirror_mode": {
    "name": "ipython",
    "version": 3
   },
   "file_extension": ".py",
   "mimetype": "text/x-python",
   "name": "python",
   "nbconvert_exporter": "python",
   "pygments_lexer": "ipython3",
   "version": "3.8.8"
  }
 },
 "nbformat": 4,
 "nbformat_minor": 1
}
