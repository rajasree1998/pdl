{
 "cells": [
  {
   "cell_type": "markdown",
   "id": "cc521302",
   "metadata": {},
   "source": [
    "###### NAME: RAJASREE S\n",
    "###### ROLL NO.: 215229147"
   ]
  },
  {
   "cell_type": "markdown",
   "id": "58fb943c",
   "metadata": {},
   "source": [
    "### LAB15: TEXT DATASET CREATION AND DESIGN OF SIMPLE RNN FOR SENTIMENTAL ANALYSIS"
   ]
  },
  {
   "cell_type": "markdown",
   "id": "466ec27a",
   "metadata": {},
   "source": [
    "#### STEPS"
   ]
  },
  {
   "cell_type": "markdown",
   "id": "bd6e5fc5",
   "metadata": {},
   "source": [
    "#### 1. IMPORT LIBRARIES"
   ]
  },
  {
   "cell_type": "code",
   "execution_count": 1,
   "id": "d7b8f240",
   "metadata": {
    "scrolled": false
   },
   "outputs": [
    {
     "name": "stderr",
     "output_type": "stream",
     "text": [
      "[nltk_data] Downloading package stopwords to\n",
      "[nltk_data]     C:\\Users\\2mscdsa18\\AppData\\Roaming\\nltk_data...\n",
      "[nltk_data]   Package stopwords is already up-to-date!\n"
     ]
    }
   ],
   "source": [
    "import csv\n",
    "import tensorflow as tf\n",
    "import numpy as np\n",
    "import pandas as pd\n",
    "import matplotlib.pyplot as plt\n",
    "import nltk\n",
    "from tensorflow.keras.preprocessing.text import Tokenizer\n",
    "from tensorflow.keras.preprocessing.sequence import pad_sequences\n",
    "from keras.models import Sequential\n",
    "from keras.layers import Dense, Embedding,SimpleRNN\n",
    "from nltk.corpus import stopwords\n",
    "nltk.download('stopwords')\n",
    "\",\".join(stopwords.words('english'))\n",
    "STOPWORDS = set(stopwords.words('english'))\n",
    "from sklearn.model_selection import train_test_split"
   ]
  },
  {
   "cell_type": "markdown",
   "id": "33ec07f4",
   "metadata": {},
   "source": [
    "#### 2.Creation of Data"
   ]
  },
  {
   "cell_type": "markdown",
   "id": "81225434",
   "metadata": {},
   "source": [
    "#### 3.Opening csv file"
   ]
  },
  {
   "cell_type": "code",
   "execution_count": 2,
   "id": "b74c39f0",
   "metadata": {},
   "outputs": [
    {
     "data": {
      "text/html": [
       "<div>\n",
       "<style scoped>\n",
       "    .dataframe tbody tr th:only-of-type {\n",
       "        vertical-align: middle;\n",
       "    }\n",
       "\n",
       "    .dataframe tbody tr th {\n",
       "        vertical-align: top;\n",
       "    }\n",
       "\n",
       "    .dataframe thead th {\n",
       "        text-align: right;\n",
       "    }\n",
       "</style>\n",
       "<table border=\"1\" class=\"dataframe\">\n",
       "  <thead>\n",
       "    <tr style=\"text-align: right;\">\n",
       "      <th></th>\n",
       "      <th>sentence</th>\n",
       "      <th>label</th>\n",
       "    </tr>\n",
       "  </thead>\n",
       "  <tbody>\n",
       "    <tr>\n",
       "      <th>0</th>\n",
       "      <td>Change is the end result of all true learning.</td>\n",
       "      <td>1</td>\n",
       "    </tr>\n",
       "    <tr>\n",
       "      <th>1</th>\n",
       "      <td>An investment in knowledge pays the best inter...</td>\n",
       "      <td>1</td>\n",
       "    </tr>\n",
       "    <tr>\n",
       "      <th>2</th>\n",
       "      <td>The roots of education are bitter, but the fru...</td>\n",
       "      <td>1</td>\n",
       "    </tr>\n",
       "    <tr>\n",
       "      <th>3</th>\n",
       "      <td>Education is what remains after one has forgot...</td>\n",
       "      <td>1</td>\n",
       "    </tr>\n",
       "    <tr>\n",
       "      <th>4</th>\n",
       "      <td>The more that you read, the more things you wi...</td>\n",
       "      <td>1</td>\n",
       "    </tr>\n",
       "  </tbody>\n",
       "</table>\n",
       "</div>"
      ],
      "text/plain": [
       "                                            sentence  label\n",
       "0     Change is the end result of all true learning.      1\n",
       "1  An investment in knowledge pays the best inter...      1\n",
       "2  The roots of education are bitter, but the fru...      1\n",
       "3  Education is what remains after one has forgot...      1\n",
       "4  The more that you read, the more things you wi...      1"
      ]
     },
     "execution_count": 2,
     "metadata": {},
     "output_type": "execute_result"
    }
   ],
   "source": [
    "data = pd.read_csv(\"txtclass.csv\", encoding= 'unicode_escape')\n",
    "data.head()"
   ]
  },
  {
   "cell_type": "markdown",
   "id": "870f6d6f",
   "metadata": {},
   "source": [
    "#### 4.pre-processing the text"
   ]
  },
  {
   "cell_type": "code",
   "execution_count": 3,
   "id": "c19eaa0b",
   "metadata": {},
   "outputs": [],
   "source": [
    "y = data['label']\n",
    "X=[]\n",
    "for review in data['sentence']:\n",
    "    filtered_sentence = [w.lower() for w in review.split() if not w in STOPWORDS]\n",
    " #filtered_sentence = filtered_sentence.lower()\n",
    "    X.append(filtered_sentence)\n",
    "X = pd.Series(X)"
   ]
  },
  {
   "cell_type": "markdown",
   "id": "22fec007",
   "metadata": {},
   "source": [
    "#### 5.Dataset Preparation"
   ]
  },
  {
   "cell_type": "code",
   "execution_count": 4,
   "id": "e43d76dd",
   "metadata": {},
   "outputs": [],
   "source": [
    "X_train,X_test,y_train,y_test = train_test_split(X,y,train_size=0.7)"
   ]
  },
  {
   "cell_type": "code",
   "execution_count": 5,
   "id": "bdbcd9f6",
   "metadata": {},
   "outputs": [
    {
     "name": "stdout",
     "output_type": "stream",
     "text": [
      "(14,)\n",
      "(6,)\n",
      "(14,)\n",
      "(6,)\n"
     ]
    }
   ],
   "source": [
    "print(X_train.shape)\n",
    "print(X_test.shape)\n",
    "print(y_train.shape)\n",
    "print(y_test.shape)"
   ]
  },
  {
   "cell_type": "code",
   "execution_count": 6,
   "id": "ea921187",
   "metadata": {},
   "outputs": [
    {
     "data": {
      "text/plain": [
       "{'<oov>': 1,\n",
       " '\\x93education': 2,\n",
       " 'without': 3,\n",
       " 'knowledge': 4,\n",
       " 'something': 5,\n",
       " 'learner': 6,\n",
       " 'education.': 7,\n",
       " 'rather': 8,\n",
       " 'know': 9,\n",
       " 'memorize': 10}"
      ]
     },
     "execution_count": 6,
     "metadata": {},
     "output_type": "execute_result"
    }
   ],
   "source": [
    "train_token = Tokenizer(num_words=100,oov_token='<oov>')\n",
    "train_token.fit_on_texts(X_train)\n",
    "word_index = train_token.word_index\n",
    "train_sequence = train_token.texts_to_sequences(X_train)\n",
    "dict(list(word_index.items())[0:10])"
   ]
  },
  {
   "cell_type": "code",
   "execution_count": 7,
   "id": "6e24ae7d",
   "metadata": {},
   "outputs": [
    {
     "data": {
      "text/plain": [
       "127"
      ]
     },
     "execution_count": 7,
     "metadata": {},
     "output_type": "execute_result"
    }
   ],
   "source": [
    "vocab_ze = len(train_token.word_index) + 1\n",
    "vocab_ze"
   ]
  },
  {
   "cell_type": "code",
   "execution_count": 8,
   "id": "5f35f4f3",
   "metadata": {},
   "outputs": [
    {
     "data": {
      "text/plain": [
       "[34,\n",
       " 35,\n",
       " 36,\n",
       " 37,\n",
       " 38,\n",
       " 39,\n",
       " 40,\n",
       " 41,\n",
       " 9,\n",
       " 42,\n",
       " 43,\n",
       " 8,\n",
       " 10,\n",
       " 44,\n",
       " 9,\n",
       " 45,\n",
       " 11,\n",
       " 46,\n",
       " 47,\n",
       " 48,\n",
       " 49,\n",
       " 50,\n",
       " 12,\n",
       " 51]"
      ]
     },
     "execution_count": 8,
     "metadata": {},
     "output_type": "execute_result"
    }
   ],
   "source": [
    "train_sequence[3]"
   ]
  },
  {
   "cell_type": "code",
   "execution_count": 9,
   "id": "04813160",
   "metadata": {},
   "outputs": [],
   "source": [
    "train_padded = pad_sequences(train_sequence,maxlen=100,padding='post')"
   ]
  },
  {
   "cell_type": "code",
   "execution_count": 10,
   "id": "b21b3f8b",
   "metadata": {},
   "outputs": [
    {
     "data": {
      "text/plain": [
       "array([ 2,  3, 26, 27, 28, 29,  8, 30, 31, 32, 33,  0,  0,  0,  0,  0,  0,\n",
       "        0,  0,  0,  0,  0,  0,  0,  0,  0,  0,  0,  0,  0,  0,  0,  0,  0,\n",
       "        0,  0,  0,  0,  0,  0,  0,  0,  0,  0,  0,  0,  0,  0,  0,  0,  0,\n",
       "        0,  0,  0,  0,  0,  0,  0,  0,  0,  0,  0,  0,  0,  0,  0,  0,  0,\n",
       "        0,  0,  0,  0,  0,  0,  0,  0,  0,  0,  0,  0,  0,  0,  0,  0,  0,\n",
       "        0,  0,  0,  0,  0,  0,  0,  0,  0,  0,  0,  0,  0,  0,  0])"
      ]
     },
     "execution_count": 10,
     "metadata": {},
     "output_type": "execute_result"
    }
   ],
   "source": [
    "train_padded[2]"
   ]
  },
  {
   "cell_type": "code",
   "execution_count": 11,
   "id": "a1e777ea",
   "metadata": {},
   "outputs": [],
   "source": [
    "test_token = Tokenizer(num_words=500,oov_token='<oov>')\n",
    "test_token.fit_on_texts(X_test)\n",
    "test_index = test_token.word_index\n",
    "test_sequence = test_token.texts_to_sequences(X_test)"
   ]
  },
  {
   "cell_type": "code",
   "execution_count": 12,
   "id": "ccf41509",
   "metadata": {},
   "outputs": [],
   "source": [
    "test_padded = pad_sequences(test_sequence,maxlen=100,padding='post')"
   ]
  },
  {
   "cell_type": "code",
   "execution_count": 13,
   "id": "16df7fbf",
   "metadata": {
    "scrolled": true
   },
   "outputs": [
    {
     "data": {
      "text/plain": [
       "array([35, 36, 37, 38,  6, 39, 40,  6, 41, 42, 43,  0,  0,  0,  0,  0,  0,\n",
       "        0,  0,  0,  0,  0,  0,  0,  0,  0,  0,  0,  0,  0,  0,  0,  0,  0,\n",
       "        0,  0,  0,  0,  0,  0,  0,  0,  0,  0,  0,  0,  0,  0,  0,  0,  0,\n",
       "        0,  0,  0,  0,  0,  0,  0,  0,  0,  0,  0,  0,  0,  0,  0,  0,  0,\n",
       "        0,  0,  0,  0,  0,  0,  0,  0,  0,  0,  0,  0,  0,  0,  0,  0,  0,\n",
       "        0,  0,  0,  0,  0,  0,  0,  0,  0,  0,  0,  0,  0,  0,  0])"
      ]
     },
     "execution_count": 13,
     "metadata": {},
     "output_type": "execute_result"
    }
   ],
   "source": [
    "test_padded[4]"
   ]
  },
  {
   "cell_type": "markdown",
   "id": "d96c1a51",
   "metadata": {},
   "source": [
    "#### 6.Model Creation"
   ]
  },
  {
   "cell_type": "code",
   "execution_count": 14,
   "id": "80fc2fe3",
   "metadata": {},
   "outputs": [],
   "source": [
    "model = Sequential()\n",
    "# Embedding layer\n",
    "model.add(Embedding(300,70,input_length=100))\n",
    "model.add(SimpleRNN(70,activation='relu'))\n",
    "model.add(Dense('1',activation='sigmoid'))"
   ]
  },
  {
   "cell_type": "code",
   "execution_count": 15,
   "id": "7d0985f7",
   "metadata": {},
   "outputs": [],
   "source": [
    "model.compile(optimizer='adam',loss='binary_crossentropy',metrics=['accuracy'])"
   ]
  },
  {
   "cell_type": "code",
   "execution_count": 16,
   "id": "a2ed5d33",
   "metadata": {},
   "outputs": [
    {
     "name": "stdout",
     "output_type": "stream",
     "text": [
      "Model: \"sequential\"\n",
      "_________________________________________________________________\n",
      " Layer (type)                Output Shape              Param #   \n",
      "=================================================================\n",
      " embedding (Embedding)       (None, 100, 70)           21000     \n",
      "                                                                 \n",
      " simple_rnn (SimpleRNN)      (None, 70)                9870      \n",
      "                                                                 \n",
      " dense (Dense)               (None, 1)                 71        \n",
      "                                                                 \n",
      "=================================================================\n",
      "Total params: 30,941\n",
      "Trainable params: 30,941\n",
      "Non-trainable params: 0\n",
      "_________________________________________________________________\n"
     ]
    }
   ],
   "source": [
    "model.summary()"
   ]
  },
  {
   "cell_type": "code",
   "execution_count": 17,
   "id": "0957af0a",
   "metadata": {},
   "outputs": [
    {
     "name": "stdout",
     "output_type": "stream",
     "text": [
      "Epoch 1/10\n",
      "1/1 - 1s - loss: 0.6932 - accuracy: 0.5000 - 717ms/epoch - 717ms/step\n",
      "Epoch 2/10\n",
      "1/1 - 0s - loss: 0.6932 - accuracy: 0.5000 - 7ms/epoch - 7ms/step\n",
      "Epoch 3/10\n",
      "1/1 - 0s - loss: 0.6932 - accuracy: 0.5000 - 9ms/epoch - 9ms/step\n",
      "Epoch 4/10\n",
      "1/1 - 0s - loss: 0.6931 - accuracy: 0.5000 - 8ms/epoch - 8ms/step\n",
      "Epoch 5/10\n",
      "1/1 - 0s - loss: 0.6932 - accuracy: 0.5000 - 7ms/epoch - 7ms/step\n",
      "Epoch 6/10\n",
      "1/1 - 0s - loss: 0.6932 - accuracy: 0.5000 - 8ms/epoch - 8ms/step\n",
      "Epoch 7/10\n",
      "1/1 - 0s - loss: 0.6932 - accuracy: 0.5000 - 8ms/epoch - 8ms/step\n",
      "Epoch 8/10\n",
      "1/1 - 0s - loss: 0.6931 - accuracy: 0.5000 - 7ms/epoch - 7ms/step\n",
      "Epoch 9/10\n",
      "1/1 - 0s - loss: 0.6932 - accuracy: 0.5000 - 7ms/epoch - 7ms/step\n",
      "Epoch 10/10\n",
      "1/1 - 0s - loss: 0.6932 - accuracy: 0.5000 - 8ms/epoch - 8ms/step\n"
     ]
    }
   ],
   "source": [
    "history=model.fit(train_padded,y_train,epochs=10,verbose=2,batch_size=15)"
   ]
  },
  {
   "cell_type": "code",
   "execution_count": 18,
   "id": "b97f4c01",
   "metadata": {},
   "outputs": [
    {
     "name": "stdout",
     "output_type": "stream",
     "text": [
      "1/1 [==============================] - 0s 148ms/step - loss: 0.6932 - accuracy: 0.5000\n"
     ]
    },
    {
     "data": {
      "text/plain": [
       "[0.6931506991386414, 0.5]"
      ]
     },
     "execution_count": 18,
     "metadata": {},
     "output_type": "execute_result"
    }
   ],
   "source": [
    "model.evaluate(test_padded,y_test)"
   ]
  },
  {
   "cell_type": "code",
   "execution_count": 19,
   "id": "c8ab0167",
   "metadata": {},
   "outputs": [],
   "source": [
    "text = ['Education is what remains after one has forgotten what one has learned in school.']\n",
    "#sent = [w.lower() for w in text.split() if not w in STOPWORDS]\n",
    "trail_token = Tokenizer()\n",
    "trail_token.fit_on_texts(text)\n",
    "#word_index = trail_token.word_index\n",
    "trail_seq = trail_token.texts_to_sequences(text)\n",
    "#dict(list(word_index.items())[0:10])\n",
    "trail_pad = pad_sequences(trail_seq,maxlen=100,padding='post')\n"
   ]
  },
  {
   "cell_type": "code",
   "execution_count": 20,
   "id": "5bb7650c",
   "metadata": {},
   "outputs": [
    {
     "data": {
      "text/plain": [
       "array([[ 4,  5,  1,  6,  7,  2,  3,  8,  1,  2,  3,  9, 10, 11,  0,  0,\n",
       "         0,  0,  0,  0,  0,  0,  0,  0,  0,  0,  0,  0,  0,  0,  0,  0,\n",
       "         0,  0,  0,  0,  0,  0,  0,  0,  0,  0,  0,  0,  0,  0,  0,  0,\n",
       "         0,  0,  0,  0,  0,  0,  0,  0,  0,  0,  0,  0,  0,  0,  0,  0,\n",
       "         0,  0,  0,  0,  0,  0,  0,  0,  0,  0,  0,  0,  0,  0,  0,  0,\n",
       "         0,  0,  0,  0,  0,  0,  0,  0,  0,  0,  0,  0,  0,  0,  0,  0,\n",
       "         0,  0,  0,  0]])"
      ]
     },
     "execution_count": 20,
     "metadata": {},
     "output_type": "execute_result"
    }
   ],
   "source": [
    "trail_pad\n"
   ]
  },
  {
   "cell_type": "code",
   "execution_count": 21,
   "id": "0ff1bd91",
   "metadata": {},
   "outputs": [
    {
     "name": "stdout",
     "output_type": "stream",
     "text": [
      "1/1 [==============================] - 0s 105ms/step\n",
      "[[0.4986892]] positive\n"
     ]
    },
    {
     "name": "stderr",
     "output_type": "stream",
     "text": [
      "C:\\Users\\2mscdsa18\\AppData\\Local\\Temp\\ipykernel_712\\1535703611.py:3: DeprecationWarning: In future, it will be an error for 'np.bool_' scalars to be interpreted as an index\n",
      "  print(res,label[np.argmax(trail_pad)>50])\n"
     ]
    }
   ],
   "source": [
    "res = model.predict(trail_pad)\n",
    "label = ['positive','negative']\n",
    "print(res,label[np.argmax(trail_pad)>50])"
   ]
  },
  {
   "cell_type": "code",
   "execution_count": 22,
   "id": "6938b7ab",
   "metadata": {},
   "outputs": [],
   "source": [
    "model1 = Sequential()\n",
    "# Embedding layer\n",
    "model1.add(Embedding(5000,64,input_length=100))\n",
    "model1.add(SimpleRNN(32,activation='tanh'))\n",
    "model1.add(Embedding(5000,32,input_length=100))\n",
    "model1.add(SimpleRNN(32,activation='tanh' ))\n",
    "model1.add(Dense('1',activation='sigmoid'))"
   ]
  },
  {
   "cell_type": "code",
   "execution_count": 23,
   "id": "aa9553da",
   "metadata": {},
   "outputs": [
    {
     "name": "stdout",
     "output_type": "stream",
     "text": [
      "Model: \"sequential_1\"\n",
      "_________________________________________________________________\n",
      " Layer (type)                Output Shape              Param #   \n",
      "=================================================================\n",
      " embedding_1 (Embedding)     (None, 100, 64)           320000    \n",
      "                                                                 \n",
      " simple_rnn_1 (SimpleRNN)    (None, 32)                3104      \n",
      "                                                                 \n",
      " embedding_2 (Embedding)     (None, 32, 32)            160000    \n",
      "                                                                 \n",
      " simple_rnn_2 (SimpleRNN)    (None, 32)                2080      \n",
      "                                                                 \n",
      " dense_1 (Dense)             (None, 1)                 33        \n",
      "                                                                 \n",
      "=================================================================\n",
      "Total params: 485,217\n",
      "Trainable params: 485,217\n",
      "Non-trainable params: 0\n",
      "_________________________________________________________________\n"
     ]
    }
   ],
   "source": [
    "model1.summary()\n"
   ]
  },
  {
   "cell_type": "code",
   "execution_count": 24,
   "id": "a3aff418",
   "metadata": {},
   "outputs": [],
   "source": [
    "model1.compile(optimizer='adam',loss='binary_crossentropy',metrics=['accuracy'])"
   ]
  },
  {
   "cell_type": "code",
   "execution_count": 25,
   "id": "753a3445",
   "metadata": {},
   "outputs": [
    {
     "name": "stdout",
     "output_type": "stream",
     "text": [
      "Epoch 1/10\n",
      "WARNING:tensorflow:Gradients do not exist for variables ['embedding_1/embeddings:0', 'simple_rnn_1/simple_rnn_cell_1/kernel:0', 'simple_rnn_1/simple_rnn_cell_1/recurrent_kernel:0', 'simple_rnn_1/simple_rnn_cell_1/bias:0'] when minimizing the loss. If you're using `model.compile()`, did you forget to provide a `loss` argument?\n",
      "WARNING:tensorflow:Gradients do not exist for variables ['embedding_1/embeddings:0', 'simple_rnn_1/simple_rnn_cell_1/kernel:0', 'simple_rnn_1/simple_rnn_cell_1/recurrent_kernel:0', 'simple_rnn_1/simple_rnn_cell_1/bias:0'] when minimizing the loss. If you're using `model.compile()`, did you forget to provide a `loss` argument?\n",
      "1/1 - 1s - loss: 0.6941 - accuracy: 0.5000 - 725ms/epoch - 725ms/step\n",
      "Epoch 2/10\n",
      "1/1 - 0s - loss: 0.6931 - accuracy: 0.5000 - 5ms/epoch - 5ms/step\n",
      "Epoch 3/10\n",
      "1/1 - 0s - loss: 0.6935 - accuracy: 0.5000 - 6ms/epoch - 6ms/step\n",
      "Epoch 4/10\n",
      "1/1 - 0s - loss: 0.6936 - accuracy: 0.5000 - 5ms/epoch - 5ms/step\n",
      "Epoch 5/10\n",
      "1/1 - 0s - loss: 0.6934 - accuracy: 0.5000 - 5ms/epoch - 5ms/step\n",
      "Epoch 6/10\n",
      "1/1 - 0s - loss: 0.6932 - accuracy: 0.5000 - 5ms/epoch - 5ms/step\n",
      "Epoch 7/10\n",
      "1/1 - 0s - loss: 0.6931 - accuracy: 0.5000 - 6ms/epoch - 6ms/step\n",
      "Epoch 8/10\n",
      "1/1 - 0s - loss: 0.6932 - accuracy: 0.5000 - 5ms/epoch - 5ms/step\n",
      "Epoch 9/10\n",
      "1/1 - 0s - loss: 0.6933 - accuracy: 0.5000 - 5ms/epoch - 5ms/step\n",
      "Epoch 10/10\n",
      "1/1 - 0s - loss: 0.6933 - accuracy: 0.5000 - 5ms/epoch - 5ms/step\n"
     ]
    }
   ],
   "source": [
    "history1=model1.fit(train_padded,y_train,epochs=10,verbose=2,batch_size=15)"
   ]
  },
  {
   "cell_type": "code",
   "execution_count": 26,
   "id": "24ba2ab9",
   "metadata": {},
   "outputs": [
    {
     "name": "stdout",
     "output_type": "stream",
     "text": [
      "1/1 [==============================] - 0s 277ms/step - loss: 0.6933 - accuracy: 0.5000\n"
     ]
    },
    {
     "data": {
      "text/plain": [
       "[0.6932557225227356, 0.5]"
      ]
     },
     "execution_count": 26,
     "metadata": {},
     "output_type": "execute_result"
    }
   ],
   "source": [
    "model1.evaluate(test_padded,y_test)\n"
   ]
  },
  {
   "cell_type": "code",
   "execution_count": 27,
   "id": "74e50b32",
   "metadata": {},
   "outputs": [
    {
     "data": {
      "image/png": "[encoded data removed]",
      "text/plain": [
       "<Figure size 432x288 with 1 Axes>"
      ]
     },
     "metadata": {
      "needs_background": "light"
     },
     "output_type": "display_data"
    }
   ],
   "source": [
    "plt.plot(history1.history['accuracy'])\n",
    "plt.title('Model Accuracy')\n",
    "plt.ylabel('accuracy')\n",
    "plt.xlabel('epoch')\n",
    "plt.show()"
   ]
  },
  {
   "cell_type": "code",
   "execution_count": 28,
   "id": "f893367c",
   "metadata": {},
   "outputs": [
    {
     "data": {
      "image/png": "[encoded data removed]",
      "text/plain": [
       "<Figure size 432x288 with 1 Axes>"
      ]
     },
     "metadata": {
      "needs_background": "light"
     },
     "output_type": "display_data"
    }
   ],
   "source": [
    "plt.plot(history1.history['loss'])\n",
    "plt.title('Model Loss')\n",
    "plt.ylabel('loss')\n",
    "plt.xlabel('epoch')\n",
    "plt.show()\n"
   ]
  },
  {
   "cell_type": "code",
   "execution_count": 29,
   "id": "5340c763",
   "metadata": {},
   "outputs": [
    {
     "name": "stdout",
     "output_type": "stream",
     "text": [
      "1/1 [==============================] - 0s 147ms/step\n",
      "[[0.49263272]] positive\n"
     ]
    },
    {
     "name": "stderr",
     "output_type": "stream",
     "text": [
      "C:\\Users\\2mscdsa18\\AppData\\Local\\Temp\\ipykernel_712\\2701450631.py:3: DeprecationWarning: In future, it will be an error for 'np.bool_' scalars to be interpreted as an index\n",
      "  print(res,label[np.argmax(trail_pad)>50])\n"
     ]
    }
   ],
   "source": [
    "res = model1.predict(trail_pad)\n",
    "label = ['positive','negative']\n",
    "print(res,label[np.argmax(trail_pad)>50])"
   ]
  },
  {
   "cell_type": "code",
   "execution_count": 30,
   "id": "e31a7580",
   "metadata": {},
   "outputs": [],
   "source": [
    "model2 = Sequential()\n",
    "# Embedding layer\n",
    "model2.add(Embedding(4000,128,input_length=100))\n",
    "model2.add(SimpleRNN(64,activation='tanh'))\n",
    "model2.add(Embedding(4000,128,input_length=100))\n",
    "model2.add(SimpleRNN(64,activation='relu' ))\n",
    "model2.add(Embedding(4000,128,input_length=100))\n",
    "model2.add(SimpleRNN(64,activation='tanh' ))\n",
    "model2.add(Dense('1',activation='sigmoid'))"
   ]
  },
  {
   "cell_type": "code",
   "execution_count": 31,
   "id": "f240a587",
   "metadata": {},
   "outputs": [
    {
     "name": "stdout",
     "output_type": "stream",
     "text": [
      "Model: \"sequential_2\"\n",
      "_________________________________________________________________\n",
      " Layer (type)                Output Shape              Param #   \n",
      "=================================================================\n",
      " embedding_3 (Embedding)     (None, 100, 128)          512000    \n",
      "                                                                 \n",
      " simple_rnn_3 (SimpleRNN)    (None, 64)                12352     \n",
      "                                                                 \n",
      " embedding_4 (Embedding)     (None, 64, 128)           512000    \n",
      "                                                                 \n",
      " simple_rnn_4 (SimpleRNN)    (None, 64)                12352     \n",
      "                                                                 \n",
      " embedding_5 (Embedding)     (None, 64, 128)           512000    \n",
      "                                                                 \n",
      " simple_rnn_5 (SimpleRNN)    (None, 64)                12352     \n",
      "                                                                 \n",
      " dense_2 (Dense)             (None, 1)                 65        \n",
      "                                                                 \n",
      "=================================================================\n",
      "Total params: 1,573,121\n",
      "Trainable params: 1,573,121\n",
      "Non-trainable params: 0\n",
      "_________________________________________________________________\n"
     ]
    }
   ],
   "source": [
    "model2.summary()"
   ]
  },
  {
   "cell_type": "code",
   "execution_count": 32,
   "id": "0b849efe",
   "metadata": {},
   "outputs": [],
   "source": [
    "model2.compile(optimizer='adam',loss='binary_crossentropy',metrics=['accuracy'])"
   ]
  },
  {
   "cell_type": "code",
   "execution_count": 33,
   "id": "75fb8e04",
   "metadata": {},
   "outputs": [
    {
     "name": "stdout",
     "output_type": "stream",
     "text": [
      "Epoch 1/10\n",
      "WARNING:tensorflow:Gradients do not exist for variables ['embedding_3/embeddings:0', 'simple_rnn_3/simple_rnn_cell_3/kernel:0', 'simple_rnn_3/simple_rnn_cell_3/recurrent_kernel:0', 'simple_rnn_3/simple_rnn_cell_3/bias:0', 'embedding_4/embeddings:0', 'simple_rnn_4/simple_rnn_cell_4/kernel:0', 'simple_rnn_4/simple_rnn_cell_4/recurrent_kernel:0', 'simple_rnn_4/simple_rnn_cell_4/bias:0'] when minimizing the loss. If you're using `model.compile()`, did you forget to provide a `loss` argument?\n",
      "WARNING:tensorflow:Gradients do not exist for variables ['embedding_3/embeddings:0', 'simple_rnn_3/simple_rnn_cell_3/kernel:0', 'simple_rnn_3/simple_rnn_cell_3/recurrent_kernel:0', 'simple_rnn_3/simple_rnn_cell_3/bias:0', 'embedding_4/embeddings:0', 'simple_rnn_4/simple_rnn_cell_4/kernel:0', 'simple_rnn_4/simple_rnn_cell_4/recurrent_kernel:0', 'simple_rnn_4/simple_rnn_cell_4/bias:0'] when minimizing the loss. If you're using `model.compile()`, did you forget to provide a `loss` argument?\n",
      "1/1 - 1s - loss: 0.6935 - accuracy: 0.5000 - 821ms/epoch - 821ms/step\n",
      "Epoch 2/10\n",
      "1/1 - 0s - loss: 0.6980 - accuracy: 0.5000 - 11ms/epoch - 11ms/step\n",
      "Epoch 3/10\n",
      "1/1 - 0s - loss: 0.6936 - accuracy: 0.5000 - 10ms/epoch - 10ms/step\n",
      "Epoch 4/10\n",
      "1/1 - 0s - loss: 0.6942 - accuracy: 0.5000 - 10ms/epoch - 10ms/step\n",
      "Epoch 5/10\n",
      "1/1 - 0s - loss: 0.6947 - accuracy: 0.5000 - 9ms/epoch - 9ms/step\n",
      "Epoch 6/10\n",
      "1/1 - 0s - loss: 0.6941 - accuracy: 0.5000 - 10ms/epoch - 10ms/step\n",
      "Epoch 7/10\n",
      "1/1 - 0s - loss: 0.6935 - accuracy: 0.5000 - 10ms/epoch - 10ms/step\n",
      "Epoch 8/10\n",
      "1/1 - 0s - loss: 0.6932 - accuracy: 0.5000 - 9ms/epoch - 9ms/step\n",
      "Epoch 9/10\n",
      "1/1 - 0s - loss: 0.6932 - accuracy: 0.5000 - 10ms/epoch - 10ms/step\n",
      "Epoch 10/10\n",
      "1/1 - 0s - loss: 0.6933 - accuracy: 0.5000 - 10ms/epoch - 10ms/step\n"
     ]
    }
   ],
   "source": [
    "history2=model2.fit(train_padded,y_train,epochs=10,verbose=2,batch_size=15)"
   ]
  },
  {
   "cell_type": "code",
   "execution_count": 34,
   "id": "2da972a3",
   "metadata": {},
   "outputs": [
    {
     "name": "stdout",
     "output_type": "stream",
     "text": [
      "1/1 [==============================] - 0s 243ms/step - loss: 0.6933 - accuracy: 0.5000\n"
     ]
    },
    {
     "data": {
      "text/plain": [
       "[0.69331955909729, 0.5]"
      ]
     },
     "execution_count": 34,
     "metadata": {},
     "output_type": "execute_result"
    }
   ],
   "source": [
    "model2.evaluate(test_padded,y_test)"
   ]
  },
  {
   "cell_type": "code",
   "execution_count": 35,
   "id": "3f68cb42",
   "metadata": {},
   "outputs": [
    {
     "name": "stdout",
     "output_type": "stream",
     "text": [
      "1/1 [==============================] - 0s 204ms/step\n",
      "[[0.50928307]] positive\n"
     ]
    },
    {
     "name": "stderr",
     "output_type": "stream",
     "text": [
      "C:\\Users\\2mscdsa18\\AppData\\Local\\Temp\\ipykernel_712\\479605851.py:3: DeprecationWarning: In future, it will be an error for 'np.bool_' scalars to be interpreted as an index\n",
      "  print(res,label[np.argmax(trail_pad)>50])\n"
     ]
    }
   ],
   "source": [
    "res = model2.predict(trail_pad)\n",
    "label = ['positive','negative']\n",
    "print(res,label[np.argmax(trail_pad)>50])"
   ]
  }
 ],
 "metadata": {
  "kernelspec": {
   "display_name": "Python 3",
   "language": "python",
   "name": "python3"
  },
  "language_info": {
   "codemirror_mode": {
    "name": "ipython",
    "version": 3
   },
   "file_extension": ".py",
   "mimetype": "text/x-python",
   "name": "python",
   "nbconvert_exporter": "python",
   "pygments_lexer": "ipython3",
   "version": "3.8.8"
  }
 },
 "nbformat": 4,
 "nbformat_minor": 5
}
