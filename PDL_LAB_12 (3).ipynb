{
 "cells": [
  {
   "cell_type": "markdown",
   "metadata": {
    "id": "jxALHeaKfeg5"
   },
   "source": [
    "### NAME : RAJASREE S\n",
    "### ROLL NO : 215229147"
   ]
  },
  {
   "cell_type": "markdown",
   "metadata": {
    "id": "5vx8fS_8f06E"
   },
   "source": [
    "## Lab-12. Image corpus creation and Transfer Learning in CNN"
   ]
  },
  {
   "cell_type": "markdown",
   "metadata": {
    "id": "GAxw-rl0IPxj"
   },
   "source": [
    "1. Import libraries"
   ]
  },
  {
   "cell_type": "code",
   "execution_count": 1,
   "metadata": {
    "id": "oTovFr1PDmgb"
   },
   "outputs": [],
   "source": [
    "from __future__ import print_function\n",
    "import keras\n",
    "from keras.datasets import mnist\n",
    "from keras.preprocessing.image import ImageDataGenerator\n",
    "from keras.models import Sequential\n",
    "import random\n",
    "import numpy as np\n",
    "from keras.layers import Dense, Dropout, Activation, Flatten\n",
    "from keras.layers import Conv2D, MaxPooling2D\n",
    "import tensorflow\n",
    "from tensorflow.keras.optimizers import RMSprop,SGD,Adam\n",
    "from tensorflow.keras.utils import to_categorical\n",
    "import matplotlib.pyplot as plt\n",
    "%matplotlib inline\n",
    "import datetime\n",
    "import pandas as pd"
   ]
  },
  {
   "cell_type": "markdown",
   "metadata": {
    "id": "t3PhRcF7Ie-7"
   },
   "source": [
    "2. Initialize some parameters"
   ]
  },
  {
   "cell_type": "code",
   "execution_count": 2,
   "metadata": {
    "id": "bkXNZJ6LDmmD"
   },
   "outputs": [],
   "source": [
    "now=datetime.datetime.now\n",
    "\n",
    "batch_size=128\n",
    "num_classes=5\n",
    "epochs=5\n",
    "\n",
    "img_rows,img_cols=28,28\n",
    "filters=32\n",
    "pool_size=2\n",
    "kernel_size=3"
   ]
  },
  {
   "cell_type": "markdown",
   "metadata": {
    "id": "egCRtwQFJUV7"
   },
   "source": [
    "3. Partition MNIST dataset"
   ]
  },
  {
   "cell_type": "code",
   "execution_count": 3,
   "metadata": {
    "colab": {
     "base_uri": "https://localhost:8080/"
    },
    "id": "HNhkwIG2D7ml",
    "outputId": "424d989a-4eb2-4704-c937-301585029a30"
   },
   "outputs": [
    {
     "name": "stdout",
     "output_type": "stream",
     "text": [
      "Downloading data from https://storage.googleapis.com/tensorflow/tf-keras-datasets/mnist.npz\n",
      "11493376/11490434 [==============================] - 0s 0us/step\n",
      "11501568/11490434 [==============================] - 0s 0us/step\n"
     ]
    }
   ],
   "source": [
    "(x_train,y_train),(x_test,y_test)=mnist.load_data()\n",
    "\n",
    "x_train_lt5 = x_train[y_train<5]\n",
    "y_train_lt5 = y_train[y_train<5]\n",
    "x_test_lt5 = x_test[y_test<5]\n",
    "y_test_lt5 = y_test[y_test<5]\n",
    "\n",
    "x_train_gte5 = x_train[y_train>=5]\n",
    "y_train_gte5 = y_train[y_train>=5]-5\n",
    "x_test_gte5 = x_test[y_test>=5]\n",
    "y_test_gte5 = y_test[y_test>=5]-5"
   ]
  },
  {
   "cell_type": "markdown",
   "metadata": {
    "id": "yJPkPGyoKpE5"
   },
   "source": [
    "4. Define the \"feature\" layers"
   ]
  },
  {
   "cell_type": "code",
   "execution_count": 4,
   "metadata": {
    "id": "H4KWn6WGRTjN"
   },
   "outputs": [],
   "source": [
    "feature_layer=[Conv2D(filters=32, kernel_size=kernel_size, activation='relu', padding='same', input_shape=(28,28,1)),\n",
    "               Conv2D(filters=32, kernel_size=kernel_size, activation='relu', input_shape=(28,28,1)),\n",
    "               MaxPooling2D(pool_size),\n",
    "               Dropout(rate=0.25),\n",
    "               Flatten()]"
   ]
  },
  {
   "cell_type": "markdown",
   "metadata": {
    "id": "2ICCZgCOO7xN"
   },
   "source": [
    "5. Define the \"classification\" layers"
   ]
  },
  {
   "cell_type": "code",
   "execution_count": 5,
   "metadata": {
    "id": "OE1Howm7RsSQ"
   },
   "outputs": [],
   "source": [
    "classification_layer=[Dense(batch_size, activation='relu'),\n",
    "                      Dropout(rate=0.5),\n",
    "                      Dense(num_classes, activation='softmax')]"
   ]
  },
  {
   "cell_type": "code",
   "execution_count": 6,
   "metadata": {
    "id": "frtmq2ZzSMM9"
   },
   "outputs": [],
   "source": [
    "model = Sequential(feature_layer + classification_layer)"
   ]
  },
  {
   "cell_type": "markdown",
   "metadata": {
    "id": "zpSvif_TP8jd"
   },
   "source": [
    "6. Define a Sequential model"
   ]
  },
  {
   "cell_type": "code",
   "execution_count": 7,
   "metadata": {
    "colab": {
     "base_uri": "https://localhost:8080/"
    },
    "id": "jxvBw9qGQG0M",
    "outputId": "117442c2-b499-46a7-9d34-1439d2d164e2"
   },
   "outputs": [
    {
     "name": "stdout",
     "output_type": "stream",
     "text": [
      "Model: \"sequential\"\n",
      "_________________________________________________________________\n",
      " Layer (type)                Output Shape              Param #   \n",
      "=================================================================\n",
      " conv2d (Conv2D)             (None, 28, 28, 32)        320       \n",
      "                                                                 \n",
      " conv2d_1 (Conv2D)           (None, 26, 26, 32)        9248      \n",
      "                                                                 \n",
      " max_pooling2d (MaxPooling2D  (None, 13, 13, 32)       0         \n",
      " )                                                               \n",
      "                                                                 \n",
      " dropout (Dropout)           (None, 13, 13, 32)        0         \n",
      "                                                                 \n",
      " flatten (Flatten)           (None, 5408)              0         \n",
      "                                                                 \n",
      " dense (Dense)               (None, 128)               692352    \n",
      "                                                                 \n",
      " dropout_1 (Dropout)         (None, 128)               0         \n",
      "                                                                 \n",
      " dense_1 (Dense)             (None, 5)                 645       \n",
      "                                                                 \n",
      "=================================================================\n",
      "Total params: 702,565\n",
      "Trainable params: 702,565\n",
      "Non-trainable params: 0\n",
      "_________________________________________________________________\n"
     ]
    }
   ],
   "source": [
    "model.summary()"
   ]
  },
  {
   "cell_type": "markdown",
   "metadata": {
    "id": "KaM4AVk8StO-"
   },
   "source": [
    "7. Create a function train model()"
   ]
  },
  {
   "cell_type": "code",
   "execution_count": 8,
   "metadata": {
    "id": "BKkZvZuWS2U9"
   },
   "outputs": [],
   "source": [
    "def train_model(model,train,test,num_classes):\n",
    "  train[0] = train[0].reshape(train[0].shape[0],img_rows,img_cols,1)\n",
    "  test[0] = test[0].reshape(test[0].shape[0],img_rows,img_cols,1)\n",
    "  train[0] = train[0].astype('float32')\n",
    "  test[0] = test[0].astype('float32')\n",
    "  train[0] /= 255\n",
    "  test[0] /= 255\n",
    "  print(train[0].shape)\n",
    "  print(test[0].shape)\n",
    "  s = pd.Series(train[1])\n",
    "  train[1] = pd.get_dummies(s)\n",
    "  train[1] = train[1].values\n",
    "  s = pd.Series(test[1])\n",
    "  test[1] = pd.get_dummies(s)\n",
    "  test[1] = test[1].values\n",
    "\n",
    "  model.compile(optimizer='adadelta',loss='categorical_crossentropy',metrics=['accuracy'])\n",
    "  train_start_time=now()\n",
    "  model.fit(train[0],train[1],epochs=epochs,verbose=2)\n",
    "  print('\\n')\n",
    "  print('\\n')\n",
    "  print('Training time: %s' % (now() - train_start_time))\n",
    "  score=model.evaluate(test[0],test[1],verbose=0)\n",
    "  print('test loss ',score[0])\n",
    "  print('test accuracy ',score[1])"
   ]
  },
  {
   "cell_type": "markdown",
   "metadata": {
    "id": "125J7TY5Uu-u"
   },
   "source": [
    "8. Training on digits 5 to 9"
   ]
  },
  {
   "cell_type": "code",
   "execution_count": 9,
   "metadata": {
    "colab": {
     "base_uri": "https://localhost:8080/"
    },
    "id": "yP6vz21FEzF8",
    "outputId": "57d19145-da57-4263-c74e-484f5d3a78e8"
   },
   "outputs": [
    {
     "name": "stdout",
     "output_type": "stream",
     "text": [
      "(29404, 28, 28, 1)\n",
      "(4861, 28, 28, 1)\n",
      "Epoch 1/5\n",
      "919/919 - 61s - loss: 1.5712 - accuracy: 0.3154 - 61s/epoch - 67ms/step\n",
      "Epoch 2/5\n",
      "919/919 - 58s - loss: 1.5026 - accuracy: 0.4682 - 58s/epoch - 63ms/step\n",
      "Epoch 3/5\n",
      "919/919 - 58s - loss: 1.4138 - accuracy: 0.5803 - 58s/epoch - 63ms/step\n",
      "Epoch 4/5\n",
      "919/919 - 60s - loss: 1.3013 - accuracy: 0.6555 - 60s/epoch - 65ms/step\n",
      "Epoch 5/5\n",
      "919/919 - 58s - loss: 1.1694 - accuracy: 0.7028 - 58s/epoch - 64ms/step\n",
      "\n",
      "\n",
      "\n",
      "\n",
      "Training time: 0:04:56.020839\n",
      "test loss  1.0368167161941528\n",
      "test accuracy  0.8463279008865356\n"
     ]
    }
   ],
   "source": [
    "train_model(model,[x_train_gte5,y_train_gte5],[x_test_gte5,y_test_gte5],num_classes)"
   ]
  },
  {
   "cell_type": "markdown",
   "metadata": {
    "id": "3a4qeFbwVfJB"
   },
   "source": [
    "9. Freeze Feature Layers"
   ]
  },
  {
   "cell_type": "code",
   "execution_count": 10,
   "metadata": {
    "id": "JAQwbmj2ZIi-"
   },
   "outputs": [],
   "source": [
    "for l in feature_layer:\n",
    "  l.trainable=False"
   ]
  },
  {
   "cell_type": "markdown",
   "metadata": {
    "id": "tAhGJ3A2ZiQH"
   },
   "source": [
    "10. Print Summary"
   ]
  },
  {
   "cell_type": "code",
   "execution_count": 11,
   "metadata": {
    "colab": {
     "base_uri": "https://localhost:8080/"
    },
    "id": "8BrJUErlGfHT",
    "outputId": "e2bafb60-9576-4b3f-c6e4-dc624fcda889"
   },
   "outputs": [
    {
     "name": "stdout",
     "output_type": "stream",
     "text": [
      "Model: \"sequential\"\n",
      "_________________________________________________________________\n",
      " Layer (type)                Output Shape              Param #   \n",
      "=================================================================\n",
      " conv2d (Conv2D)             (None, 28, 28, 32)        320       \n",
      "                                                                 \n",
      " conv2d_1 (Conv2D)           (None, 26, 26, 32)        9248      \n",
      "                                                                 \n",
      " max_pooling2d (MaxPooling2D  (None, 13, 13, 32)       0         \n",
      " )                                                               \n",
      "                                                                 \n",
      " dropout (Dropout)           (None, 13, 13, 32)        0         \n",
      "                                                                 \n",
      " flatten (Flatten)           (None, 5408)              0         \n",
      "                                                                 \n",
      " dense (Dense)               (None, 128)               692352    \n",
      "                                                                 \n",
      " dropout_1 (Dropout)         (None, 128)               0         \n",
      "                                                                 \n",
      " dense_1 (Dense)             (None, 5)                 645       \n",
      "                                                                 \n",
      "=================================================================\n",
      "Total params: 702,565\n",
      "Trainable params: 692,997\n",
      "Non-trainable params: 9,568\n",
      "_________________________________________________________________\n"
     ]
    }
   ],
   "source": [
    "model.summary()"
   ]
  },
  {
   "cell_type": "markdown",
   "metadata": {
    "id": "TQk7aw13Zu_b"
   },
   "source": [
    "11. Training for digits 0 to 4 based on digits 5 to 9"
   ]
  },
  {
   "cell_type": "code",
   "execution_count": 12,
   "metadata": {
    "colab": {
     "base_uri": "https://localhost:8080/"
    },
    "id": "LnAr6ThgG060",
    "outputId": "e95a628f-801b-4266-b0af-43283fb7055b"
   },
   "outputs": [
    {
     "name": "stdout",
     "output_type": "stream",
     "text": [
      "(30596, 28, 28, 1)\n",
      "(5139, 28, 28, 1)\n",
      "Epoch 1/5\n",
      "957/957 - 20s - loss: 1.4469 - accuracy: 0.4072 - 20s/epoch - 21ms/step\n",
      "Epoch 2/5\n",
      "957/957 - 18s - loss: 1.2458 - accuracy: 0.5408 - 18s/epoch - 19ms/step\n",
      "Epoch 3/5\n",
      "957/957 - 18s - loss: 1.0890 - accuracy: 0.6669 - 18s/epoch - 19ms/step\n",
      "Epoch 4/5\n",
      "957/957 - 17s - loss: 0.9545 - accuracy: 0.7621 - 17s/epoch - 18ms/step\n",
      "Epoch 5/5\n",
      "957/957 - 18s - loss: 0.8447 - accuracy: 0.8108 - 18s/epoch - 18ms/step\n",
      "\n",
      "\n",
      "\n",
      "\n",
      "Training time: 0:01:31.386530\n",
      "test loss  0.7216097116470337\n",
      "test accuracy  0.8838295340538025\n"
     ]
    }
   ],
   "source": [
    "train_model(model,[x_train_lt5, y_train_lt5],[x_test_lt5, y_test_lt5], num_classes)"
   ]
  },
  {
   "cell_type": "markdown",
   "metadata": {
    "id": "lSlaofcsazAk"
   },
   "source": [
    "12. Reversing the training process"
   ]
  },
  {
   "cell_type": "code",
   "execution_count": 13,
   "metadata": {
    "id": "uFYixrz7bBZm"
   },
   "outputs": [],
   "source": [
    "INPUT_SHAPE = (img_rows,img_cols,1)\n",
    "feature_layers=[Conv2D(filters=filters,kernel_size=kernel_size,activation='relu',padding=\"same\",input_shape=(28,28,1)),\n",
    "                Conv2D(filters=filters,kernel_size=kernel_size,activation='relu',input_shape=(28,28,1)),\n",
    "                MaxPooling2D(pool_size=pool_size),\n",
    "                Dropout(0.25),\n",
    "                Flatten()]\n",
    "classification_layers = [Dense(128,activation='relu'),Dropout(0.5),\n",
    "\n",
    "Dense(5,activation='softmax')]"
   ]
  },
  {
   "cell_type": "code",
   "execution_count": 14,
   "metadata": {
    "colab": {
     "base_uri": "https://localhost:8080/"
    },
    "id": "ETArGOPqcfSF",
    "outputId": "9e6e3c0e-666b-4aea-cb09-cfa9b162d73a"
   },
   "outputs": [
    {
     "name": "stdout",
     "output_type": "stream",
     "text": [
      "Model: \"sequential_1\"\n",
      "_________________________________________________________________\n",
      " Layer (type)                Output Shape              Param #   \n",
      "=================================================================\n",
      " conv2d_2 (Conv2D)           (None, 28, 28, 32)        320       \n",
      "                                                                 \n",
      " conv2d_3 (Conv2D)           (None, 26, 26, 32)        9248      \n",
      "                                                                 \n",
      " max_pooling2d_1 (MaxPooling  (None, 13, 13, 32)       0         \n",
      " 2D)                                                             \n",
      "                                                                 \n",
      " dropout_2 (Dropout)         (None, 13, 13, 32)        0         \n",
      "                                                                 \n",
      " flatten_1 (Flatten)         (None, 5408)              0         \n",
      "                                                                 \n",
      " dense_2 (Dense)             (None, 128)               692352    \n",
      "                                                                 \n",
      " dropout_3 (Dropout)         (None, 128)               0         \n",
      "                                                                 \n",
      " dense_3 (Dense)             (None, 5)                 645       \n",
      "                                                                 \n",
      "=================================================================\n",
      "Total params: 702,565\n",
      "Trainable params: 702,565\n",
      "Non-trainable params: 0\n",
      "_________________________________________________________________\n"
     ]
    }
   ],
   "source": [
    "modelReverse = Sequential(feature_layers+classification_layers)\n",
    "modelReverse.summary()"
   ]
  },
  {
   "cell_type": "code",
   "execution_count": 15,
   "metadata": {
    "colab": {
     "base_uri": "https://localhost:8080/"
    },
    "id": "YY2leecGdhSk",
    "outputId": "8a7a7c13-19ea-48d9-a32e-365f74f9608f"
   },
   "outputs": [
    {
     "name": "stdout",
     "output_type": "stream",
     "text": [
      "(30596, 28, 28, 1)\n",
      "(5139, 28, 28, 1)\n",
      "Epoch 1/5\n",
      "957/957 - 18s - loss: 0.7529 - accuracy: 0.8419 - 18s/epoch - 19ms/step\n",
      "Epoch 2/5\n",
      "957/957 - 18s - loss: 0.6798 - accuracy: 0.8579 - 18s/epoch - 19ms/step\n",
      "Epoch 3/5\n",
      "957/957 - 20s - loss: 0.6207 - accuracy: 0.8716 - 20s/epoch - 20ms/step\n",
      "Epoch 4/5\n",
      "957/957 - 18s - loss: 0.5720 - accuracy: 0.8814 - 18s/epoch - 19ms/step\n",
      "Epoch 5/5\n",
      "957/957 - 19s - loss: 0.5303 - accuracy: 0.8876 - 19s/epoch - 19ms/step\n",
      "\n",
      "\n",
      "\n",
      "\n",
      "Training time: 0:01:33.381165\n",
      "test loss  0.43036308884620667\n",
      "test accuracy  0.933060884475708\n"
     ]
    }
   ],
   "source": [
    "train_model(model,[x_train_lt5, y_train_lt5],[x_test_lt5, y_test_lt5], num_classes)"
   ]
  },
  {
   "cell_type": "code",
   "execution_count": 16,
   "metadata": {
    "id": "KT7KuZHOdRsJ"
   },
   "outputs": [],
   "source": [
    "for l in feature_layers:\n",
    "  l.trainable=False"
   ]
  },
  {
   "cell_type": "code",
   "execution_count": 17,
   "metadata": {
    "colab": {
     "base_uri": "https://localhost:8080/"
    },
    "id": "VHQq_aEEdoh7",
    "outputId": "18b583f9-0ecc-4796-dcfc-8ca2c27764be"
   },
   "outputs": [
    {
     "name": "stdout",
     "output_type": "stream",
     "text": [
      "Model: \"sequential\"\n",
      "_________________________________________________________________\n",
      " Layer (type)                Output Shape              Param #   \n",
      "=================================================================\n",
      " conv2d (Conv2D)             (None, 28, 28, 32)        320       \n",
      "                                                                 \n",
      " conv2d_1 (Conv2D)           (None, 26, 26, 32)        9248      \n",
      "                                                                 \n",
      " max_pooling2d (MaxPooling2D  (None, 13, 13, 32)       0         \n",
      " )                                                               \n",
      "                                                                 \n",
      " dropout (Dropout)           (None, 13, 13, 32)        0         \n",
      "                                                                 \n",
      " flatten (Flatten)           (None, 5408)              0         \n",
      "                                                                 \n",
      " dense (Dense)               (None, 128)               692352    \n",
      "                                                                 \n",
      " dropout_1 (Dropout)         (None, 128)               0         \n",
      "                                                                 \n",
      " dense_1 (Dense)             (None, 5)                 645       \n",
      "                                                                 \n",
      "=================================================================\n",
      "Total params: 702,565\n",
      "Trainable params: 692,997\n",
      "Non-trainable params: 9,568\n",
      "_________________________________________________________________\n"
     ]
    }
   ],
   "source": [
    "model.summary()"
   ]
  },
  {
   "cell_type": "code",
   "execution_count": 18,
   "metadata": {
    "colab": {
     "base_uri": "https://localhost:8080/"
    },
    "id": "fFEojhD4ezY0",
    "outputId": "79e8ea71-496a-4c54-9b42-a038b3941ead"
   },
   "outputs": [
    {
     "name": "stdout",
     "output_type": "stream",
     "text": [
      "(29404, 28, 28, 1)\n",
      "(4861, 28, 28, 1)\n",
      "Epoch 1/5\n",
      "919/919 - 18s - loss: 1.3622 - accuracy: 0.4682 - 18s/epoch - 20ms/step\n",
      "Epoch 2/5\n",
      "919/919 - 18s - loss: 1.1920 - accuracy: 0.5464 - 18s/epoch - 20ms/step\n",
      "Epoch 3/5\n",
      "919/919 - 18s - loss: 1.0654 - accuracy: 0.6120 - 18s/epoch - 19ms/step\n",
      "Epoch 4/5\n",
      "919/919 - 18s - loss: 0.9698 - accuracy: 0.6678 - 18s/epoch - 19ms/step\n",
      "Epoch 5/5\n",
      "919/919 - 18s - loss: 0.8882 - accuracy: 0.7112 - 18s/epoch - 19ms/step\n",
      "\n",
      "\n",
      "\n",
      "\n",
      "Training time: 0:01:29.946745\n",
      "test loss  0.7727604508399963\n",
      "test accuracy  0.7821435928344727\n"
     ]
    }
   ],
   "source": [
    "train_model(model,[x_train_gte5, y_train_gte5],[x_test_gte5, y_test_gte5], num_classes)"
   ]
  },
  {
   "cell_type": "code",
   "execution_count": 19,
   "metadata": {
    "colab": {
     "base_uri": "https://localhost:8080/"
    },
    "id": "l9jg_8CmfWQZ",
    "outputId": "1bdcfdf3-43be-494e-f47d-518c9618e632"
   },
   "outputs": [
    {
     "name": "stdout",
     "output_type": "stream",
     "text": [
      "Model: \"sequential\"\n",
      "_________________________________________________________________\n",
      " Layer (type)                Output Shape              Param #   \n",
      "=================================================================\n",
      " conv2d (Conv2D)             (None, 28, 28, 32)        320       \n",
      "                                                                 \n",
      " conv2d_1 (Conv2D)           (None, 26, 26, 32)        9248      \n",
      "                                                                 \n",
      " max_pooling2d (MaxPooling2D  (None, 13, 13, 32)       0         \n",
      " )                                                               \n",
      "                                                                 \n",
      " dropout (Dropout)           (None, 13, 13, 32)        0         \n",
      "                                                                 \n",
      " flatten (Flatten)           (None, 5408)              0         \n",
      "                                                                 \n",
      " dense (Dense)               (None, 128)               692352    \n",
      "                                                                 \n",
      " dropout_1 (Dropout)         (None, 128)               0         \n",
      "                                                                 \n",
      " dense_1 (Dense)             (None, 5)                 645       \n",
      "                                                                 \n",
      "=================================================================\n",
      "Total params: 702,565\n",
      "Trainable params: 692,997\n",
      "Non-trainable params: 9,568\n",
      "_________________________________________________________________\n"
     ]
    }
   ],
   "source": [
    "model.summary()"
   ]
  },
  {
   "cell_type": "code",
   "execution_count": null,
   "metadata": {
    "id": "RYue4UCu8tef"
   },
   "outputs": [],
   "source": []
  }
 ],
 "metadata": {
  "colab": {
   "collapsed_sections": [],
   "provenance": []
  },
  "kernelspec": {
   "display_name": "Python 3",
   "language": "python",
   "name": "python3"
  },
  "language_info": {
   "codemirror_mode": {
    "name": "ipython",
    "version": 3
   },
   "file_extension": ".py",
   "mimetype": "text/x-python",
   "name": "python",
   "nbconvert_exporter": "python",
   "pygments_lexer": "ipython3",
   "version": "3.8.8"
  }
 },
 "nbformat": 4,
 "nbformat_minor": 1
}
